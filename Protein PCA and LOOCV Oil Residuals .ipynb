{
 "cells": [
  {
   "cell_type": "markdown",
   "metadata": {},
   "source": [
    "# Protein PCA\n",
    "### Name: Hessa Ahmad\n",
    "\n",
    "\n",
    "# Question1:\n",
    "#### -The data below measure the protein consumed (using 9 different types of foodvariables) in 25 European countries.\n",
    "#### -Identify the principal components using the correlation matrix ,the important variables underlying those components and the relationship between them.\n",
    "#### -Is there a component that differentiate Geographical regions?\n",
    "#### -Do it manually in r and using the r function prcomp.\n"
   ]
  },
  {
   "cell_type": "code",
   "execution_count": 1,
   "metadata": {},
   "outputs": [
    {
     "data": {
      "text/html": [
       "<table>\n",
       "<thead><tr><th scope=col>Country</th><th scope=col>Red.Meat</th><th scope=col>White.Meat</th><th scope=col>Eggs</th><th scope=col>Milk</th><th scope=col>Fish</th><th scope=col>Cereal</th><th scope=col>Starch</th><th scope=col>Nuts</th><th scope=col>fruits.and.vegetables</th></tr></thead>\n",
       "<tbody>\n",
       "\t<tr><td>Albania       </td><td>10.1          </td><td> 1.4          </td><td>0.5           </td><td> 8.9          </td><td>0.2           </td><td>42.3          </td><td>0.6           </td><td>5.5           </td><td>1.7           </td></tr>\n",
       "\t<tr><td>Austria       </td><td> 8.9          </td><td>14.0          </td><td>4.3           </td><td>19.9          </td><td>2.1           </td><td>28.0          </td><td>3.6           </td><td>1.3           </td><td>4.3           </td></tr>\n",
       "\t<tr><td>Belgium       </td><td>13.5          </td><td> 9.3          </td><td>4.1           </td><td>17.5          </td><td>4.5           </td><td>26.6          </td><td>5.7           </td><td>2.1           </td><td>4.0           </td></tr>\n",
       "\t<tr><td>Bulgaria      </td><td> 7.8          </td><td> 6.0          </td><td>1.6           </td><td> 8.3          </td><td>1.2           </td><td>56.7          </td><td>1.1           </td><td>3.7           </td><td>4.2           </td></tr>\n",
       "\t<tr><td>Czechoslovakia</td><td> 9.7          </td><td>11.4          </td><td>2.8           </td><td>12.5          </td><td>2.0           </td><td>34.3          </td><td>5.0           </td><td>1.1           </td><td>4.0           </td></tr>\n",
       "\t<tr><td>Denmark       </td><td>10.6          </td><td>10.8          </td><td>3.7           </td><td>25.0          </td><td>9.9           </td><td>21.9          </td><td>4.8           </td><td>0.7           </td><td>2.4           </td></tr>\n",
       "</tbody>\n",
       "</table>\n"
      ],
      "text/latex": [
       "\\begin{tabular}{r|llllllllll}\n",
       " Country & Red.Meat & White.Meat & Eggs & Milk & Fish & Cereal & Starch & Nuts & fruits.and.vegetables\\\\\n",
       "\\hline\n",
       "\t Albania        & 10.1           &  1.4           & 0.5            &  8.9           & 0.2            & 42.3           & 0.6            & 5.5            & 1.7           \\\\\n",
       "\t Austria        &  8.9           & 14.0           & 4.3            & 19.9           & 2.1            & 28.0           & 3.6            & 1.3            & 4.3           \\\\\n",
       "\t Belgium        & 13.5           &  9.3           & 4.1            & 17.5           & 4.5            & 26.6           & 5.7            & 2.1            & 4.0           \\\\\n",
       "\t Bulgaria       &  7.8           &  6.0           & 1.6            &  8.3           & 1.2            & 56.7           & 1.1            & 3.7            & 4.2           \\\\\n",
       "\t Czechoslovakia &  9.7           & 11.4           & 2.8            & 12.5           & 2.0            & 34.3           & 5.0            & 1.1            & 4.0           \\\\\n",
       "\t Denmark        & 10.6           & 10.8           & 3.7            & 25.0           & 9.9            & 21.9           & 4.8            & 0.7            & 2.4           \\\\\n",
       "\\end{tabular}\n"
      ],
      "text/markdown": [
       "\n",
       "| Country | Red.Meat | White.Meat | Eggs | Milk | Fish | Cereal | Starch | Nuts | fruits.and.vegetables |\n",
       "|---|---|---|---|---|---|---|---|---|---|\n",
       "| Albania        | 10.1           |  1.4           | 0.5            |  8.9           | 0.2            | 42.3           | 0.6            | 5.5            | 1.7            |\n",
       "| Austria        |  8.9           | 14.0           | 4.3            | 19.9           | 2.1            | 28.0           | 3.6            | 1.3            | 4.3            |\n",
       "| Belgium        | 13.5           |  9.3           | 4.1            | 17.5           | 4.5            | 26.6           | 5.7            | 2.1            | 4.0            |\n",
       "| Bulgaria       |  7.8           |  6.0           | 1.6            |  8.3           | 1.2            | 56.7           | 1.1            | 3.7            | 4.2            |\n",
       "| Czechoslovakia |  9.7           | 11.4           | 2.8            | 12.5           | 2.0            | 34.3           | 5.0            | 1.1            | 4.0            |\n",
       "| Denmark        | 10.6           | 10.8           | 3.7            | 25.0           | 9.9            | 21.9           | 4.8            | 0.7            | 2.4            |\n",
       "\n"
      ],
      "text/plain": [
       "  Country        Red.Meat White.Meat Eggs Milk Fish Cereal Starch Nuts\n",
       "1 Albania        10.1      1.4       0.5   8.9 0.2  42.3   0.6    5.5 \n",
       "2 Austria         8.9     14.0       4.3  19.9 2.1  28.0   3.6    1.3 \n",
       "3 Belgium        13.5      9.3       4.1  17.5 4.5  26.6   5.7    2.1 \n",
       "4 Bulgaria        7.8      6.0       1.6   8.3 1.2  56.7   1.1    3.7 \n",
       "5 Czechoslovakia  9.7     11.4       2.8  12.5 2.0  34.3   5.0    1.1 \n",
       "6 Denmark        10.6     10.8       3.7  25.0 9.9  21.9   4.8    0.7 \n",
       "  fruits.and.vegetables\n",
       "1 1.7                  \n",
       "2 4.3                  \n",
       "3 4.0                  \n",
       "4 4.2                  \n",
       "5 4.0                  \n",
       "6 2.4                  "
      ]
     },
     "metadata": {},
     "output_type": "display_data"
    },
    {
     "name": "stdout",
     "output_type": "stream",
     "text": [
      "'data.frame':\t25 obs. of  10 variables:\n",
      " $ Country              : Factor w/ 25 levels \"Albania\",\"Austria\",..: 1 2 3 4 5 6 7 8 9 10 ...\n",
      " $ Red.Meat             : num  10.1 8.9 13.5 7.8 9.7 10.6 8.4 9.5 18 10.2 ...\n",
      " $ White.Meat           : num  1.4 14 9.3 6 11.4 10.8 11.6 4.9 9.9 3 ...\n",
      " $ Eggs                 : num  0.5 4.3 4.1 1.6 2.8 3.7 3.7 2.7 3.3 2.8 ...\n",
      " $ Milk                 : num  8.9 19.9 17.5 8.3 12.5 25 11.1 33.7 19.5 17.6 ...\n",
      " $ Fish                 : num  0.2 2.1 4.5 1.2 2 9.9 5.4 5.8 5.7 5.9 ...\n",
      " $ Cereal               : num  42.3 28 26.6 56.7 34.3 21.9 24.6 26.3 28.1 41.7 ...\n",
      " $ Starch               : num  0.6 3.6 5.7 1.1 5 4.8 6.5 5.1 4.8 2.2 ...\n",
      " $ Nuts                 : num  5.5 1.3 2.1 3.7 1.1 0.7 0.8 1 2.4 7.8 ...\n",
      " $ fruits.and.vegetables: num  1.7 4.3 4 4.2 4 2.4 3.6 1.4 6.5 6.5 ...\n"
     ]
    },
    {
     "data": {
      "text/plain": [
       "           Country      Red.Meat        White.Meat          Eggs      \n",
       " Albania       : 1   Min.   : 4.400   Min.   : 1.400   Min.   :0.500  \n",
       " Austria       : 1   1st Qu.: 7.800   1st Qu.: 4.900   1st Qu.:2.700  \n",
       " Belgium       : 1   Median : 9.500   Median : 7.800   Median :2.900  \n",
       " Bulgaria      : 1   Mean   : 9.828   Mean   : 7.896   Mean   :2.936  \n",
       " Czechoslovakia: 1   3rd Qu.:10.600   3rd Qu.:10.800   3rd Qu.:3.700  \n",
       " Denmark       : 1   Max.   :18.000   Max.   :14.000   Max.   :4.700  \n",
       " (Other)       :19                                                    \n",
       "      Milk            Fish            Cereal          Starch     \n",
       " Min.   : 4.70   Min.   : 0.200   Min.   :18.60   Min.   :0.600  \n",
       " 1st Qu.: 9.70   1st Qu.: 2.100   1st Qu.:24.30   1st Qu.:3.100  \n",
       " Median :17.50   Median : 3.400   Median :28.00   Median :4.700  \n",
       " Mean   :16.31   Mean   : 4.284   Mean   :32.25   Mean   :4.276  \n",
       " 3rd Qu.:20.60   3rd Qu.: 5.800   3rd Qu.:40.10   3rd Qu.:5.700  \n",
       " Max.   :33.70   Max.   :14.200   Max.   :56.70   Max.   :6.500  \n",
       "                                                                 \n",
       "      Nuts       fruits.and.vegetables\n",
       " Min.   :0.700   Min.   :1.400        \n",
       " 1st Qu.:1.500   1st Qu.:2.900        \n",
       " Median :2.400   Median :3.800        \n",
       " Mean   :3.072   Mean   :4.136        \n",
       " 3rd Qu.:4.700   3rd Qu.:4.900        \n",
       " Max.   :7.800   Max.   :7.900        \n",
       "                                      "
      ]
     },
     "metadata": {},
     "output_type": "display_data"
    },
    {
     "data": {
      "text/html": [
       "<ol class=list-inline>\n",
       "\t<li>25</li>\n",
       "\t<li>9</li>\n",
       "</ol>\n"
      ],
      "text/latex": [
       "\\begin{enumerate*}\n",
       "\\item 25\n",
       "\\item 9\n",
       "\\end{enumerate*}\n"
      ],
      "text/markdown": [
       "1. 25\n",
       "2. 9\n",
       "\n",
       "\n"
      ],
      "text/plain": [
       "[1] 25  9"
      ]
     },
     "metadata": {},
     "output_type": "display_data"
    }
   ],
   "source": [
    "data_Pro<-read.csv(\"protein.csv\")\n",
    "head(data_Pro)\n",
    "attach(data_Pro)\n",
    "str(data_Pro)\n",
    "summary(data_Pro)\n",
    "dim(data_Pro[,2:10])\n",
    "options(warn=-1)"
   ]
  },
  {
   "cell_type": "markdown",
   "metadata": {},
   "source": [
    "As we see in summary data there is big dispersion between the 9 variable , which is mean we make the scale=TRUE in PC fumction below also since there is big dispersion i should use corrlation matrix in eign value and eign vector , if there is no big dispersion i will use covarance matrix  in eign value and eign vector and make the scale=FALSE in PC function."
   ]
  },
  {
   "cell_type": "markdown",
   "metadata": {},
   "source": [
    "## PC by function prcomp"
   ]
  },
  {
   "cell_type": "code",
   "execution_count": 2,
   "metadata": {},
   "outputs": [
    {
     "data": {
      "text/plain": [
       "Standard deviations (1, .., p=9):\n",
       "[1] 1.9701671 1.2785019 1.0296606 0.9774434 0.7288593 0.6530426 0.5363205\n",
       "[8] 0.3439999 0.3234220\n",
       "\n",
       "Rotation (n x k) = (9 x 9):\n",
       "                             PC1         PC2         PC3         PC4        PC5\n",
       "Red.Meat              -0.3097482 -0.06597175 -0.51511760 -0.46382164  0.2011695\n",
       "White.Meat            -0.3242371 -0.26023489  0.60620736 -0.14196192  0.1179686\n",
       "Eggs                  -0.4356002 -0.04921056  0.07864397 -0.32605111  0.1014603\n",
       "Milk                  -0.3375943 -0.19182069 -0.36708729 -0.01350964 -0.7150679\n",
       "Fish                  -0.1300092  0.66708007 -0.21250506  0.28338151  0.1751990\n",
       "Cereal                 0.4385563 -0.24052196  0.08082681 -0.04959222 -0.3268877\n",
       "Starch                -0.3143399  0.33404488  0.28189810  0.24125906 -0.4714638\n",
       "Nuts                   0.4224730  0.14009678 -0.12626640 -0.33775943 -0.1396997\n",
       "fruits.and.vegetables  0.0931764  0.50462753  0.28129597 -0.63495877 -0.2113138\n",
       "                             PC6         PC7          PC8         PC9\n",
       "Red.Meat              -0.3320790  0.44948607 -0.044366706  0.25391992\n",
       "White.Meat             0.2453928  0.07085976 -0.108072325  0.59048506\n",
       "Eggs                  -0.1834209 -0.57015331  0.536011473 -0.19752481\n",
       "Milk                   0.4303987 -0.10237969 -0.046233269  0.07151918\n",
       "Fish                   0.2750701 -0.02442142  0.351425146  0.42683018\n",
       "Cereal                -0.1435739  0.27057136  0.688045876  0.25834115\n",
       "Starch                -0.6337001  0.09750212 -0.118457894  0.06737301\n",
       "Nuts                  -0.1979712 -0.55720360 -0.293178898  0.46553895\n",
       "fruits.and.vegetables  0.2712456  0.25218441 -0.003640526 -0.26931625"
      ]
     },
     "metadata": {},
     "output_type": "display_data"
    }
   ],
   "source": [
    "data_Pro_PCA<-prcomp(data_Pro[,2:10],center = TRUE ,scale. = TRUE)\n",
    "data_Pro_PCA"
   ]
  },
  {
   "cell_type": "markdown",
   "metadata": {},
   "source": [
    "So here we show the component (Rotation) also Standard deviations ."
   ]
  },
  {
   "cell_type": "code",
   "execution_count": 27,
   "metadata": {},
   "outputs": [
    {
     "data": {
      "text/plain": [
       "Importance of components:\n",
       "                          PC1    PC2    PC3    PC4     PC5     PC6     PC7\n",
       "Standard deviation     1.9702 1.2785 1.0297 0.9774 0.72886 0.65304 0.53632\n",
       "Proportion of Variance 0.4313 0.1816 0.1178 0.1062 0.05903 0.04738 0.03196\n",
       "Cumulative Proportion  0.4313 0.6129 0.7307 0.8369 0.89588 0.94327 0.97523\n",
       "                           PC8     PC9\n",
       "Standard deviation     0.34400 0.32342\n",
       "Proportion of Variance 0.01315 0.01162\n",
       "Cumulative Proportion  0.98838 1.00000"
      ]
     },
     "metadata": {},
     "output_type": "display_data"
    }
   ],
   "source": [
    "summary(data_Pro_PCA)"
   ]
  },
  {
   "cell_type": "markdown",
   "metadata": {},
   "source": [
    "In summary we see in proportion of Variance are decreasing from PC1 until PC9 , then we see now what we prefer to take it from them to study the data by them so when i take first PC it is not enough since it show only 43% of the overall data variance but if i take PC1 whith PC2 it will show 61% of the overall data variance so it is the best comparison with others PCs ."
   ]
  },
  {
   "cell_type": "code",
   "execution_count": 20,
   "metadata": {
    "scrolled": true
   },
   "outputs": [
    {
     "name": "stdout",
     "output_type": "stream",
     "text": [
      "List of 5\n",
      " $ sdev    : num [1:9] 1.97 1.279 1.03 0.977 0.729 ...\n",
      " $ rotation: num [1:9, 1:9] -0.31 -0.324 -0.436 -0.338 -0.13 ...\n",
      "  ..- attr(*, \"dimnames\")=List of 2\n",
      "  .. ..$ : chr [1:9] \"Red.Meat\" \"White.Meat\" \"Eggs\" \"Milk\" ...\n",
      "  .. ..$ : chr [1:9] \"PC1\" \"PC2\" \"PC3\" \"PC4\" ...\n",
      " $ center  : Named num [1:9] 9.83 7.9 2.94 16.31 4.28 ...\n",
      "  ..- attr(*, \"names\")= chr [1:9] \"Red.Meat\" \"White.Meat\" \"Eggs\" \"Milk\" ...\n",
      " $ scale   : Named num [1:9] 3.35 3.69 1.12 7.34 3.4 ...\n",
      "  ..- attr(*, \"names\")= chr [1:9] \"Red.Meat\" \"White.Meat\" \"Eggs\" \"Milk\" ...\n",
      " $ x       : num [1:25, 1:9] 3.491 -1.471 -1.693 3.086 -0.464 ...\n",
      "  ..- attr(*, \"dimnames\")=List of 2\n",
      "  .. ..$ : NULL\n",
      "  .. ..$ : chr [1:9] \"PC1\" \"PC2\" \"PC3\" \"PC4\" ...\n",
      " - attr(*, \"class\")= chr \"prcomp\"\n"
     ]
    }
   ],
   "source": [
    "str(data_Pro_PCA)"
   ]
  },
  {
   "cell_type": "code",
   "execution_count": 28,
   "metadata": {},
   "outputs": [
    {
     "data": {
      "text/html": [
       "<ol class=list-inline>\n",
       "\t<li>3.88155846004562</li>\n",
       "\t<li>1.63456720227242</li>\n",
       "\t<li>1.06020090220391</li>\n",
       "\t<li>0.955395535152015</li>\n",
       "\t<li>0.531235858931399</li>\n",
       "\t<li>0.426464670843066</li>\n",
       "\t<li>0.287639708357343</li>\n",
       "\t<li>0.118335899593856</li>\n",
       "\t<li>0.104601762600388</li>\n",
       "</ol>\n"
      ],
      "text/latex": [
       "\\begin{enumerate*}\n",
       "\\item 3.88155846004562\n",
       "\\item 1.63456720227242\n",
       "\\item 1.06020090220391\n",
       "\\item 0.955395535152015\n",
       "\\item 0.531235858931399\n",
       "\\item 0.426464670843066\n",
       "\\item 0.287639708357343\n",
       "\\item 0.118335899593856\n",
       "\\item 0.104601762600388\n",
       "\\end{enumerate*}\n"
      ],
      "text/markdown": [
       "1. 3.88155846004562\n",
       "2. 1.63456720227242\n",
       "3. 1.06020090220391\n",
       "4. 0.955395535152015\n",
       "5. 0.531235858931399\n",
       "6. 0.426464670843066\n",
       "7. 0.287639708357343\n",
       "8. 0.118335899593856\n",
       "9. 0.104601762600388\n",
       "\n",
       "\n"
      ],
      "text/plain": [
       "[1] 3.8815585 1.6345672 1.0602009 0.9553955 0.5312359 0.4264647 0.2876397\n",
       "[8] 0.1183359 0.1046018"
      ]
     },
     "metadata": {},
     "output_type": "display_data"
    }
   ],
   "source": [
    "data_Pro_PCA_var<-data_Pro_PCA$sdev^2\n",
    "data_Pro_PCA_var\n",
    "#part1"
   ]
  },
  {
   "cell_type": "code",
   "execution_count": 11,
   "metadata": {},
   "outputs": [
    {
     "data": {
      "text/plain": [
       "eigen() decomposition\n",
       "$values\n",
       "[1] 3.8815585 1.6345672 1.0602009 0.9553955 0.5312359 0.4264647 0.2876397\n",
       "[8] 0.1183359 0.1046018\n",
       "\n",
       "$vectors\n",
       "            [,1]        [,2]        [,3]        [,4]       [,5]       [,6]\n",
       " [1,] -0.3097482  0.06597175 -0.51511760  0.46382164 -0.2011695  0.3320790\n",
       " [2,] -0.3242371  0.26023489  0.60620736  0.14196192 -0.1179686 -0.2453928\n",
       " [3,] -0.4356002  0.04921056  0.07864397  0.32605111 -0.1014603  0.1834209\n",
       " [4,] -0.3375943  0.19182069 -0.36708729  0.01350964  0.7150679 -0.4303987\n",
       " [5,] -0.1300092 -0.66708007 -0.21250506 -0.28338151 -0.1751990 -0.2750701\n",
       " [6,]  0.4385563  0.24052196  0.08082681  0.04959222  0.3268877  0.1435739\n",
       " [7,] -0.3143399 -0.33404488  0.28189810 -0.24125906  0.4714638  0.6337001\n",
       " [8,]  0.4224730 -0.14009678 -0.12626640  0.33775943  0.1396997  0.1979712\n",
       " [9,]  0.0931764 -0.50462753  0.28129597  0.63495877  0.2113138 -0.2712456\n",
       "             [,7]         [,8]        [,9]\n",
       " [1,]  0.44948607  0.044366706 -0.25391992\n",
       " [2,]  0.07085976  0.108072325 -0.59048506\n",
       " [3,] -0.57015331 -0.536011473  0.19752481\n",
       " [4,] -0.10237969  0.046233269 -0.07151918\n",
       " [5,] -0.02442142 -0.351425146 -0.42683018\n",
       " [6,]  0.27057136 -0.688045876 -0.25834115\n",
       " [7,]  0.09750212  0.118457894 -0.06737301\n",
       " [8,] -0.55720360  0.293178898 -0.46553895\n",
       " [9,]  0.25218441  0.003640526  0.26931625\n"
      ]
     },
     "metadata": {},
     "output_type": "display_data"
    }
   ],
   "source": [
    "eign_value<-eigen(cor(data_Pro[,2:10]))\n",
    "eign_value\n",
    "#part2"
   ]
  },
  {
   "cell_type": "markdown",
   "metadata": {},
   "source": [
    "in part1 and part2 , the variances of the component in part1  are identical to the Eignvalues in part2."
   ]
  },
  {
   "cell_type": "code",
   "execution_count": 10,
   "metadata": {
    "scrolled": true
   },
   "outputs": [
    {
     "data": {
      "text/html": [
       "<table>\n",
       "<thead><tr><th></th><th scope=col>Red.Meat</th><th scope=col>White.Meat</th><th scope=col>Eggs</th><th scope=col>Milk</th><th scope=col>Fish</th><th scope=col>Cereal</th><th scope=col>Starch</th><th scope=col>Nuts</th><th scope=col>fruits.and.vegetables</th></tr></thead>\n",
       "<tbody>\n",
       "\t<tr><th scope=row>Red.Meat</th><td> 1.00000000</td><td> 0.1530027 </td><td> 0.58560895</td><td> 0.48457425</td><td> 0.06095745</td><td>-0.49987746</td><td> 0.13542594</td><td>-0.3494486 </td><td>-0.07422123</td></tr>\n",
       "\t<tr><th scope=row>White.Meat</th><td> 0.15300271</td><td> 1.0000000 </td><td> 0.62040916</td><td> 0.27552855</td><td>-0.23400923</td><td>-0.41379691</td><td> 0.31377205</td><td>-0.6349618 </td><td>-0.06131670</td></tr>\n",
       "\t<tr><th scope=row>Eggs</th><td> 0.58560895</td><td> 0.6204092 </td><td> 1.00000000</td><td> 0.50000926</td><td> 0.06557136</td><td>-0.71243682</td><td> 0.45223071</td><td>-0.5597810 </td><td>-0.04551755</td></tr>\n",
       "\t<tr><th scope=row>Milk</th><td> 0.48457425</td><td> 0.2755285 </td><td> 0.50000926</td><td> 1.00000000</td><td> 0.02617651</td><td>-0.44206103</td><td> 0.25540615</td><td>-0.5058055 </td><td>-0.26096403</td></tr>\n",
       "\t<tr><th scope=row>Fish</th><td> 0.06095745</td><td>-0.2340092 </td><td> 0.06557136</td><td> 0.02617651</td><td> 1.00000000</td><td>-0.52423080</td><td> 0.40385286</td><td>-0.1471529 </td><td> 0.26613865</td></tr>\n",
       "\t<tr><th scope=row>Cereal</th><td>-0.49987746</td><td>-0.4137969 </td><td>-0.71243682</td><td>-0.44206103</td><td>-0.52423080</td><td> 1.00000000</td><td>-0.53326231</td><td> 0.6509973 </td><td> 0.04654808</td></tr>\n",
       "\t<tr><th scope=row>Starch</th><td> 0.13542594</td><td> 0.3137721 </td><td> 0.45223071</td><td> 0.25540615</td><td> 0.40385286</td><td>-0.53326231</td><td> 1.00000000</td><td>-0.4743116 </td><td> 0.08440956</td></tr>\n",
       "\t<tr><th scope=row>Nuts</th><td>-0.34944855</td><td>-0.6349618 </td><td>-0.55978097</td><td>-0.50580550</td><td>-0.14715294</td><td> 0.65099727</td><td>-0.47431155</td><td> 1.0000000 </td><td> 0.37496971</td></tr>\n",
       "\t<tr><th scope=row>fruits.and.vegetables</th><td>-0.07422123</td><td>-0.0613167 </td><td>-0.04551755</td><td>-0.26096403</td><td> 0.26613865</td><td> 0.04654808</td><td> 0.08440956</td><td> 0.3749697 </td><td> 1.00000000</td></tr>\n",
       "</tbody>\n",
       "</table>\n"
      ],
      "text/latex": [
       "\\begin{tabular}{r|lllllllll}\n",
       "  & Red.Meat & White.Meat & Eggs & Milk & Fish & Cereal & Starch & Nuts & fruits.and.vegetables\\\\\n",
       "\\hline\n",
       "\tRed.Meat &  1.00000000 &  0.1530027  &  0.58560895 &  0.48457425 &  0.06095745 & -0.49987746 &  0.13542594 & -0.3494486  & -0.07422123\\\\\n",
       "\tWhite.Meat &  0.15300271 &  1.0000000  &  0.62040916 &  0.27552855 & -0.23400923 & -0.41379691 &  0.31377205 & -0.6349618  & -0.06131670\\\\\n",
       "\tEggs &  0.58560895 &  0.6204092  &  1.00000000 &  0.50000926 &  0.06557136 & -0.71243682 &  0.45223071 & -0.5597810  & -0.04551755\\\\\n",
       "\tMilk &  0.48457425 &  0.2755285  &  0.50000926 &  1.00000000 &  0.02617651 & -0.44206103 &  0.25540615 & -0.5058055  & -0.26096403\\\\\n",
       "\tFish &  0.06095745 & -0.2340092  &  0.06557136 &  0.02617651 &  1.00000000 & -0.52423080 &  0.40385286 & -0.1471529  &  0.26613865\\\\\n",
       "\tCereal & -0.49987746 & -0.4137969  & -0.71243682 & -0.44206103 & -0.52423080 &  1.00000000 & -0.53326231 &  0.6509973  &  0.04654808\\\\\n",
       "\tStarch &  0.13542594 &  0.3137721  &  0.45223071 &  0.25540615 &  0.40385286 & -0.53326231 &  1.00000000 & -0.4743116  &  0.08440956\\\\\n",
       "\tNuts & -0.34944855 & -0.6349618  & -0.55978097 & -0.50580550 & -0.14715294 &  0.65099727 & -0.47431155 &  1.0000000  &  0.37496971\\\\\n",
       "\tfruits.and.vegetables & -0.07422123 & -0.0613167  & -0.04551755 & -0.26096403 &  0.26613865 &  0.04654808 &  0.08440956 &  0.3749697  &  1.00000000\\\\\n",
       "\\end{tabular}\n"
      ],
      "text/markdown": [
       "\n",
       "| <!--/--> | Red.Meat | White.Meat | Eggs | Milk | Fish | Cereal | Starch | Nuts | fruits.and.vegetables |\n",
       "|---|---|---|---|---|---|---|---|---|---|\n",
       "| Red.Meat |  1.00000000 |  0.1530027  |  0.58560895 |  0.48457425 |  0.06095745 | -0.49987746 |  0.13542594 | -0.3494486  | -0.07422123 |\n",
       "| White.Meat |  0.15300271 |  1.0000000  |  0.62040916 |  0.27552855 | -0.23400923 | -0.41379691 |  0.31377205 | -0.6349618  | -0.06131670 |\n",
       "| Eggs |  0.58560895 |  0.6204092  |  1.00000000 |  0.50000926 |  0.06557136 | -0.71243682 |  0.45223071 | -0.5597810  | -0.04551755 |\n",
       "| Milk |  0.48457425 |  0.2755285  |  0.50000926 |  1.00000000 |  0.02617651 | -0.44206103 |  0.25540615 | -0.5058055  | -0.26096403 |\n",
       "| Fish |  0.06095745 | -0.2340092  |  0.06557136 |  0.02617651 |  1.00000000 | -0.52423080 |  0.40385286 | -0.1471529  |  0.26613865 |\n",
       "| Cereal | -0.49987746 | -0.4137969  | -0.71243682 | -0.44206103 | -0.52423080 |  1.00000000 | -0.53326231 |  0.6509973  |  0.04654808 |\n",
       "| Starch |  0.13542594 |  0.3137721  |  0.45223071 |  0.25540615 |  0.40385286 | -0.53326231 |  1.00000000 | -0.4743116  |  0.08440956 |\n",
       "| Nuts | -0.34944855 | -0.6349618  | -0.55978097 | -0.50580550 | -0.14715294 |  0.65099727 | -0.47431155 |  1.0000000  |  0.37496971 |\n",
       "| fruits.and.vegetables | -0.07422123 | -0.0613167  | -0.04551755 | -0.26096403 |  0.26613865 |  0.04654808 |  0.08440956 |  0.3749697  |  1.00000000 |\n",
       "\n"
      ],
      "text/plain": [
       "                      Red.Meat    White.Meat Eggs        Milk       \n",
       "Red.Meat               1.00000000  0.1530027  0.58560895  0.48457425\n",
       "White.Meat             0.15300271  1.0000000  0.62040916  0.27552855\n",
       "Eggs                   0.58560895  0.6204092  1.00000000  0.50000926\n",
       "Milk                   0.48457425  0.2755285  0.50000926  1.00000000\n",
       "Fish                   0.06095745 -0.2340092  0.06557136  0.02617651\n",
       "Cereal                -0.49987746 -0.4137969 -0.71243682 -0.44206103\n",
       "Starch                 0.13542594  0.3137721  0.45223071  0.25540615\n",
       "Nuts                  -0.34944855 -0.6349618 -0.55978097 -0.50580550\n",
       "fruits.and.vegetables -0.07422123 -0.0613167 -0.04551755 -0.26096403\n",
       "                      Fish        Cereal      Starch      Nuts      \n",
       "Red.Meat               0.06095745 -0.49987746  0.13542594 -0.3494486\n",
       "White.Meat            -0.23400923 -0.41379691  0.31377205 -0.6349618\n",
       "Eggs                   0.06557136 -0.71243682  0.45223071 -0.5597810\n",
       "Milk                   0.02617651 -0.44206103  0.25540615 -0.5058055\n",
       "Fish                   1.00000000 -0.52423080  0.40385286 -0.1471529\n",
       "Cereal                -0.52423080  1.00000000 -0.53326231  0.6509973\n",
       "Starch                 0.40385286 -0.53326231  1.00000000 -0.4743116\n",
       "Nuts                  -0.14715294  0.65099727 -0.47431155  1.0000000\n",
       "fruits.and.vegetables  0.26613865  0.04654808  0.08440956  0.3749697\n",
       "                      fruits.and.vegetables\n",
       "Red.Meat              -0.07422123          \n",
       "White.Meat            -0.06131670          \n",
       "Eggs                  -0.04551755          \n",
       "Milk                  -0.26096403          \n",
       "Fish                   0.26613865          \n",
       "Cereal                 0.04654808          \n",
       "Starch                 0.08440956          \n",
       "Nuts                   0.37496971          \n",
       "fruits.and.vegetables  1.00000000          "
      ]
     },
     "metadata": {},
     "output_type": "display_data"
    }
   ],
   "source": [
    "cor(data_Pro[,2:10])"
   ]
  },
  {
   "cell_type": "code",
   "execution_count": 31,
   "metadata": {},
   "outputs": [
    {
     "data": {
      "image/png": "[encoded data removed]",
      "text/plain": [
       "Plot with title \"data_Pro_PCA\""
      ]
     },
     "metadata": {},
     "output_type": "display_data"
    }
   ],
   "source": [
    "plot(data_Pro_PCA,col=\"light blue\")"
   ]
  },
  {
   "cell_type": "markdown",
   "metadata": {},
   "source": [
    "Proportions of the variances explained by the components of the 9 different types of food variables in 25 European countries."
   ]
  },
  {
   "cell_type": "code",
   "execution_count": 40,
   "metadata": {},
   "outputs": [
    {
     "data": {
      "image/png": "[encoded data removed]",
      "text/plain": [
       "plot without title"
      ]
     },
     "metadata": {},
     "output_type": "display_data"
    }
   ],
   "source": [
    "par(mfrow=c(3,3))\n",
    "plot(data_Pro_PCA$rotation[,1],ylim=c(-0.7,0.7),col=\"light blue\",pch =16 )\n",
    "plot(data_Pro_PCA$rotation[,2],ylim=c(-0.7,0.7),col=\"light blue\",pch =16)\n",
    "plot(data_Pro_PCA$rotation[,3],ylim=c(-0.7,0.7),col=\"light blue\",pch =16)\n",
    "plot(data_Pro_PCA$rotation[,4],ylim=c(-0.7,0.7),col=\"light blue\",pch =16)\n",
    "plot(data_Pro_PCA$rotation[,5],ylim=c(-0.7,0.7),col=\"light blue\",pch =16)\n",
    "plot(data_Pro_PCA$rotation[,6],ylim=c(-0.7,0.7),col=\"light blue\",pch =16)\n",
    "plot(data_Pro_PCA$rotation[,7],ylim=c(-0.7,0.7),col=\"light blue\",pch =16)\n",
    "plot(data_Pro_PCA$rotation[,8],ylim=c(-0.7,0.7),col=\"light blue\",pch =16)\n",
    "plot(data_Pro_PCA$rotation[,9],ylim=c(-0.7,0.7),col=\"light blue\",pch =16)\n"
   ]
  },
  {
   "cell_type": "code",
   "execution_count": 6,
   "metadata": {},
   "outputs": [
    {
     "name": "stderr",
     "output_type": "stream",
     "text": [
      "Loading required package: ggplot2\n",
      "Registered S3 methods overwritten by 'ggplot2':\n",
      "  method         from \n",
      "  [.quosures     rlang\n",
      "  c.quosures     rlang\n",
      "  print.quosures rlang\n",
      "Loading required package: plyr\n",
      "Loading required package: scales\n",
      "Loading required package: grid\n"
     ]
    }
   ],
   "source": [
    "library(ggbiplot,lib.loc = \"C:/Users/Hessa/OneDrive/R\")\n",
    "library(plyr,lib.loc = \"C:/Users/Hessa/OneDrive/R\")\n",
    "library(scales,lib.loc = \"C:/Users/Hessa/OneDrive/R\")\n",
    "library(grid,lib.loc = \"C:/Users/Hessa/OneDrive/R\")\n",
    "options(warn=-1)"
   ]
  },
  {
   "cell_type": "code",
   "execution_count": 9,
   "metadata": {},
   "outputs": [
    {
     "data": {
      "image/png": "[encoded data removed]",
      "text/plain": [
       "plot without title"
      ]
     },
     "metadata": {},
     "output_type": "display_data"
    },
    {
     "data": {
      "image/png": "[encoded data removed]",
      "text/plain": [
       "plot without title"
      ]
     },
     "metadata": {},
     "output_type": "display_data"
    }
   ],
   "source": [
    "ggbiplot(data_Pro_PCA)\n",
    "ggbiplot(data_Pro_PCA,labels =data_Pro$Country)"
   ]
  },
  {
   "cell_type": "markdown",
   "metadata": {},
   "source": [
    "We can interpretation correlation between the variables of the image above , like Egg with Red Meat have high and positive correlation , if i take another variables like White Meat with Fruits&Vegetables we have low and negative correlation and so on and for more accuracy, we can refer to the correlation values from the correlation matrix."
   ]
  },
  {
   "cell_type": "code",
   "execution_count": 7,
   "metadata": {
    "scrolled": true
   },
   "outputs": [
    {
     "data": {
      "image/png": "[encoded data removed]",
      "text/plain": [
       "plot without title"
      ]
     },
     "metadata": {},
     "output_type": "display_data"
    }
   ],
   "source": [
    "# S=South\n",
    "# C=center\n",
    "# N=north\n",
    "data_Pro$type<-c(\"S\",\"C\",\"C\",\"S\",\"C\",\"N\",\"C\",\"N\",\"C\",\"S\",\"C\",\"C\",\"S\",\"C\",\"N\",\"C\",\"S\",\"S\",\"S\",\"N\",\"C\",\"C\",\"C\",\"C\",\"S\")\n",
    "ggbiplot(data_Pro_PCA,ellipse = TRUE,labels=data_Pro$Country , group=data_Pro$type , obs.scale=1 ,var.scale =1 , circal=TRUE)"
   ]
  },
  {
   "cell_type": "markdown",
   "metadata": {},
   "source": [
    "By study component and search we find two way to group the data first one by Geographical regions the other one by Age and gender but i don't find enagh data to use it and it is more complex so i choose the fisrt way and we can use other than this two way. First check PC1 if it succes or not in group data by first way regions way , we say it succes  at least in North with center as group and south as another group if we see it from what side they are in the sea they be in the map. Secound check PC2 as we see ther is no clear relation between them so it will be realtion but we can't see it although he explained to me 18.2% . After searching for the relations of the two way regions and the other age and the gender, and our application to the regions method, we find here that the division into the regions did not clarify many details and shows us the relationship of protein consumption clearly with each of the 25 European countries except that it may be affected by their presence beside the sea. So, according to my reading of age and gender relations in relation to protein consumption in Europe, it may be more beneficial than the regions method, and we can make sure if enough data are available by use PC then plot it as this assignment."
   ]
  },
  {
   "cell_type": "markdown",
   "metadata": {},
   "source": [
    "-------------------------------------------------------------------------------------------------------------------------------\n",
    "\n",
    "## PC manually"
   ]
  },
  {
   "cell_type": "code",
   "execution_count": 43,
   "metadata": {},
   "outputs": [
    {
     "data": {
      "text/html": [
       "<table>\n",
       "<thead><tr><th></th><th scope=col>Red.Meat</th><th scope=col>White.Meat</th><th scope=col>Eggs</th><th scope=col>Milk</th><th scope=col>Fish</th><th scope=col>Cereal</th><th scope=col>Starch</th><th scope=col>Nuts</th><th scope=col>fruits.and.vegetables</th></tr></thead>\n",
       "<tbody>\n",
       "\t<tr><th scope=row>Red.Meat</th><td> 1.00000000</td><td> 0.1530027 </td><td> 0.58560895</td><td> 0.48457425</td><td> 0.06095745</td><td>-0.49987746</td><td> 0.13542594</td><td>-0.3494486 </td><td>-0.07422123</td></tr>\n",
       "\t<tr><th scope=row>White.Meat</th><td> 0.15300271</td><td> 1.0000000 </td><td> 0.62040916</td><td> 0.27552855</td><td>-0.23400923</td><td>-0.41379691</td><td> 0.31377205</td><td>-0.6349618 </td><td>-0.06131670</td></tr>\n",
       "\t<tr><th scope=row>Eggs</th><td> 0.58560895</td><td> 0.6204092 </td><td> 1.00000000</td><td> 0.50000926</td><td> 0.06557136</td><td>-0.71243682</td><td> 0.45223071</td><td>-0.5597810 </td><td>-0.04551755</td></tr>\n",
       "\t<tr><th scope=row>Milk</th><td> 0.48457425</td><td> 0.2755285 </td><td> 0.50000926</td><td> 1.00000000</td><td> 0.02617651</td><td>-0.44206103</td><td> 0.25540615</td><td>-0.5058055 </td><td>-0.26096403</td></tr>\n",
       "\t<tr><th scope=row>Fish</th><td> 0.06095745</td><td>-0.2340092 </td><td> 0.06557136</td><td> 0.02617651</td><td> 1.00000000</td><td>-0.52423080</td><td> 0.40385286</td><td>-0.1471529 </td><td> 0.26613865</td></tr>\n",
       "\t<tr><th scope=row>Cereal</th><td>-0.49987746</td><td>-0.4137969 </td><td>-0.71243682</td><td>-0.44206103</td><td>-0.52423080</td><td> 1.00000000</td><td>-0.53326231</td><td> 0.6509973 </td><td> 0.04654808</td></tr>\n",
       "\t<tr><th scope=row>Starch</th><td> 0.13542594</td><td> 0.3137721 </td><td> 0.45223071</td><td> 0.25540615</td><td> 0.40385286</td><td>-0.53326231</td><td> 1.00000000</td><td>-0.4743116 </td><td> 0.08440956</td></tr>\n",
       "\t<tr><th scope=row>Nuts</th><td>-0.34944855</td><td>-0.6349618 </td><td>-0.55978097</td><td>-0.50580550</td><td>-0.14715294</td><td> 0.65099727</td><td>-0.47431155</td><td> 1.0000000 </td><td> 0.37496971</td></tr>\n",
       "\t<tr><th scope=row>fruits.and.vegetables</th><td>-0.07422123</td><td>-0.0613167 </td><td>-0.04551755</td><td>-0.26096403</td><td> 0.26613865</td><td> 0.04654808</td><td> 0.08440956</td><td> 0.3749697 </td><td> 1.00000000</td></tr>\n",
       "</tbody>\n",
       "</table>\n"
      ],
      "text/latex": [
       "\\begin{tabular}{r|lllllllll}\n",
       "  & Red.Meat & White.Meat & Eggs & Milk & Fish & Cereal & Starch & Nuts & fruits.and.vegetables\\\\\n",
       "\\hline\n",
       "\tRed.Meat &  1.00000000 &  0.1530027  &  0.58560895 &  0.48457425 &  0.06095745 & -0.49987746 &  0.13542594 & -0.3494486  & -0.07422123\\\\\n",
       "\tWhite.Meat &  0.15300271 &  1.0000000  &  0.62040916 &  0.27552855 & -0.23400923 & -0.41379691 &  0.31377205 & -0.6349618  & -0.06131670\\\\\n",
       "\tEggs &  0.58560895 &  0.6204092  &  1.00000000 &  0.50000926 &  0.06557136 & -0.71243682 &  0.45223071 & -0.5597810  & -0.04551755\\\\\n",
       "\tMilk &  0.48457425 &  0.2755285  &  0.50000926 &  1.00000000 &  0.02617651 & -0.44206103 &  0.25540615 & -0.5058055  & -0.26096403\\\\\n",
       "\tFish &  0.06095745 & -0.2340092  &  0.06557136 &  0.02617651 &  1.00000000 & -0.52423080 &  0.40385286 & -0.1471529  &  0.26613865\\\\\n",
       "\tCereal & -0.49987746 & -0.4137969  & -0.71243682 & -0.44206103 & -0.52423080 &  1.00000000 & -0.53326231 &  0.6509973  &  0.04654808\\\\\n",
       "\tStarch &  0.13542594 &  0.3137721  &  0.45223071 &  0.25540615 &  0.40385286 & -0.53326231 &  1.00000000 & -0.4743116  &  0.08440956\\\\\n",
       "\tNuts & -0.34944855 & -0.6349618  & -0.55978097 & -0.50580550 & -0.14715294 &  0.65099727 & -0.47431155 &  1.0000000  &  0.37496971\\\\\n",
       "\tfruits.and.vegetables & -0.07422123 & -0.0613167  & -0.04551755 & -0.26096403 &  0.26613865 &  0.04654808 &  0.08440956 &  0.3749697  &  1.00000000\\\\\n",
       "\\end{tabular}\n"
      ],
      "text/markdown": [
       "\n",
       "| <!--/--> | Red.Meat | White.Meat | Eggs | Milk | Fish | Cereal | Starch | Nuts | fruits.and.vegetables |\n",
       "|---|---|---|---|---|---|---|---|---|---|\n",
       "| Red.Meat |  1.00000000 |  0.1530027  |  0.58560895 |  0.48457425 |  0.06095745 | -0.49987746 |  0.13542594 | -0.3494486  | -0.07422123 |\n",
       "| White.Meat |  0.15300271 |  1.0000000  |  0.62040916 |  0.27552855 | -0.23400923 | -0.41379691 |  0.31377205 | -0.6349618  | -0.06131670 |\n",
       "| Eggs |  0.58560895 |  0.6204092  |  1.00000000 |  0.50000926 |  0.06557136 | -0.71243682 |  0.45223071 | -0.5597810  | -0.04551755 |\n",
       "| Milk |  0.48457425 |  0.2755285  |  0.50000926 |  1.00000000 |  0.02617651 | -0.44206103 |  0.25540615 | -0.5058055  | -0.26096403 |\n",
       "| Fish |  0.06095745 | -0.2340092  |  0.06557136 |  0.02617651 |  1.00000000 | -0.52423080 |  0.40385286 | -0.1471529  |  0.26613865 |\n",
       "| Cereal | -0.49987746 | -0.4137969  | -0.71243682 | -0.44206103 | -0.52423080 |  1.00000000 | -0.53326231 |  0.6509973  |  0.04654808 |\n",
       "| Starch |  0.13542594 |  0.3137721  |  0.45223071 |  0.25540615 |  0.40385286 | -0.53326231 |  1.00000000 | -0.4743116  |  0.08440956 |\n",
       "| Nuts | -0.34944855 | -0.6349618  | -0.55978097 | -0.50580550 | -0.14715294 |  0.65099727 | -0.47431155 |  1.0000000  |  0.37496971 |\n",
       "| fruits.and.vegetables | -0.07422123 | -0.0613167  | -0.04551755 | -0.26096403 |  0.26613865 |  0.04654808 |  0.08440956 |  0.3749697  |  1.00000000 |\n",
       "\n"
      ],
      "text/plain": [
       "                      Red.Meat    White.Meat Eggs        Milk       \n",
       "Red.Meat               1.00000000  0.1530027  0.58560895  0.48457425\n",
       "White.Meat             0.15300271  1.0000000  0.62040916  0.27552855\n",
       "Eggs                   0.58560895  0.6204092  1.00000000  0.50000926\n",
       "Milk                   0.48457425  0.2755285  0.50000926  1.00000000\n",
       "Fish                   0.06095745 -0.2340092  0.06557136  0.02617651\n",
       "Cereal                -0.49987746 -0.4137969 -0.71243682 -0.44206103\n",
       "Starch                 0.13542594  0.3137721  0.45223071  0.25540615\n",
       "Nuts                  -0.34944855 -0.6349618 -0.55978097 -0.50580550\n",
       "fruits.and.vegetables -0.07422123 -0.0613167 -0.04551755 -0.26096403\n",
       "                      Fish        Cereal      Starch      Nuts      \n",
       "Red.Meat               0.06095745 -0.49987746  0.13542594 -0.3494486\n",
       "White.Meat            -0.23400923 -0.41379691  0.31377205 -0.6349618\n",
       "Eggs                   0.06557136 -0.71243682  0.45223071 -0.5597810\n",
       "Milk                   0.02617651 -0.44206103  0.25540615 -0.5058055\n",
       "Fish                   1.00000000 -0.52423080  0.40385286 -0.1471529\n",
       "Cereal                -0.52423080  1.00000000 -0.53326231  0.6509973\n",
       "Starch                 0.40385286 -0.53326231  1.00000000 -0.4743116\n",
       "Nuts                  -0.14715294  0.65099727 -0.47431155  1.0000000\n",
       "fruits.and.vegetables  0.26613865  0.04654808  0.08440956  0.3749697\n",
       "                      fruits.and.vegetables\n",
       "Red.Meat              -0.07422123          \n",
       "White.Meat            -0.06131670          \n",
       "Eggs                  -0.04551755          \n",
       "Milk                  -0.26096403          \n",
       "Fish                   0.26613865          \n",
       "Cereal                 0.04654808          \n",
       "Starch                 0.08440956          \n",
       "Nuts                   0.37496971          \n",
       "fruits.and.vegetables  1.00000000          "
      ]
     },
     "metadata": {},
     "output_type": "display_data"
    }
   ],
   "source": [
    "cor(data_Pro[,2:10])"
   ]
  },
  {
   "cell_type": "code",
   "execution_count": 15,
   "metadata": {},
   "outputs": [
    {
     "data": {
      "text/html": [
       "<ol class=list-inline>\n",
       "\t<li>3.88155846004561</li>\n",
       "\t<li>1.63456720227241</li>\n",
       "\t<li>1.06020090220391</li>\n",
       "\t<li>0.955395535152015</li>\n",
       "\t<li>0.531235858931397</li>\n",
       "\t<li>0.426464670843065</li>\n",
       "\t<li>0.287639708357343</li>\n",
       "\t<li>0.118335899593856</li>\n",
       "\t<li>0.104601762600387</li>\n",
       "</ol>\n"
      ],
      "text/latex": [
       "\\begin{enumerate*}\n",
       "\\item 3.88155846004561\n",
       "\\item 1.63456720227241\n",
       "\\item 1.06020090220391\n",
       "\\item 0.955395535152015\n",
       "\\item 0.531235858931397\n",
       "\\item 0.426464670843065\n",
       "\\item 0.287639708357343\n",
       "\\item 0.118335899593856\n",
       "\\item 0.104601762600387\n",
       "\\end{enumerate*}\n"
      ],
      "text/markdown": [
       "1. 3.88155846004561\n",
       "2. 1.63456720227241\n",
       "3. 1.06020090220391\n",
       "4. 0.955395535152015\n",
       "5. 0.531235858931397\n",
       "6. 0.426464670843065\n",
       "7. 0.287639708357343\n",
       "8. 0.118335899593856\n",
       "9. 0.104601762600387\n",
       "\n",
       "\n"
      ],
      "text/plain": [
       "[1] 3.8815585 1.6345672 1.0602009 0.9553955 0.5312359 0.4264647 0.2876397\n",
       "[8] 0.1183359 0.1046018"
      ]
     },
     "metadata": {},
     "output_type": "display_data"
    }
   ],
   "source": [
    "Eigenvalue<-eigen(cor(data_Pro[,2:10]))$values\n",
    "Eigenvalue"
   ]
  },
  {
   "cell_type": "code",
   "execution_count": 12,
   "metadata": {},
   "outputs": [
    {
     "data": {
      "text/html": [
       "<table>\n",
       "<tbody>\n",
       "\t<tr><td>-0.3097482  </td><td> 0.06597175 </td><td>-0.51511760 </td><td> 0.46382164 </td><td>-0.2011695  </td><td> 0.3320790  </td><td> 0.44948607 </td><td> 0.044366706</td><td>-0.25391992 </td></tr>\n",
       "\t<tr><td>-0.3242371  </td><td> 0.26023489 </td><td> 0.60620736 </td><td> 0.14196192 </td><td>-0.1179686  </td><td>-0.2453928  </td><td> 0.07085976 </td><td> 0.108072325</td><td>-0.59048506 </td></tr>\n",
       "\t<tr><td>-0.4356002  </td><td> 0.04921056 </td><td> 0.07864397 </td><td> 0.32605111 </td><td>-0.1014603  </td><td> 0.1834209  </td><td>-0.57015331 </td><td>-0.536011473</td><td> 0.19752481 </td></tr>\n",
       "\t<tr><td>-0.3375943  </td><td> 0.19182069 </td><td>-0.36708729 </td><td> 0.01350964 </td><td> 0.7150679  </td><td>-0.4303987  </td><td>-0.10237969 </td><td> 0.046233269</td><td>-0.07151918 </td></tr>\n",
       "\t<tr><td>-0.1300092  </td><td>-0.66708007 </td><td>-0.21250506 </td><td>-0.28338151 </td><td>-0.1751990  </td><td>-0.2750701  </td><td>-0.02442142 </td><td>-0.351425146</td><td>-0.42683018 </td></tr>\n",
       "\t<tr><td> 0.4385563  </td><td> 0.24052196 </td><td> 0.08082681 </td><td> 0.04959222 </td><td> 0.3268877  </td><td> 0.1435739  </td><td> 0.27057136 </td><td>-0.688045876</td><td>-0.25834115 </td></tr>\n",
       "\t<tr><td>-0.3143399  </td><td>-0.33404488 </td><td> 0.28189810 </td><td>-0.24125906 </td><td> 0.4714638  </td><td> 0.6337001  </td><td> 0.09750212 </td><td> 0.118457894</td><td>-0.06737301 </td></tr>\n",
       "\t<tr><td> 0.4224730  </td><td>-0.14009678 </td><td>-0.12626640 </td><td> 0.33775943 </td><td> 0.1396997  </td><td> 0.1979712  </td><td>-0.55720360 </td><td> 0.293178898</td><td>-0.46553895 </td></tr>\n",
       "\t<tr><td> 0.0931764  </td><td>-0.50462753 </td><td> 0.28129597 </td><td> 0.63495877 </td><td> 0.2113138  </td><td>-0.2712456  </td><td> 0.25218441 </td><td> 0.003640526</td><td> 0.26931625 </td></tr>\n",
       "</tbody>\n",
       "</table>\n"
      ],
      "text/latex": [
       "\\begin{tabular}{lllllllll}\n",
       "\t -0.3097482   &  0.06597175  & -0.51511760  &  0.46382164  & -0.2011695   &  0.3320790   &  0.44948607  &  0.044366706 & -0.25391992 \\\\\n",
       "\t -0.3242371   &  0.26023489  &  0.60620736  &  0.14196192  & -0.1179686   & -0.2453928   &  0.07085976  &  0.108072325 & -0.59048506 \\\\\n",
       "\t -0.4356002   &  0.04921056  &  0.07864397  &  0.32605111  & -0.1014603   &  0.1834209   & -0.57015331  & -0.536011473 &  0.19752481 \\\\\n",
       "\t -0.3375943   &  0.19182069  & -0.36708729  &  0.01350964  &  0.7150679   & -0.4303987   & -0.10237969  &  0.046233269 & -0.07151918 \\\\\n",
       "\t -0.1300092   & -0.66708007  & -0.21250506  & -0.28338151  & -0.1751990   & -0.2750701   & -0.02442142  & -0.351425146 & -0.42683018 \\\\\n",
       "\t  0.4385563   &  0.24052196  &  0.08082681  &  0.04959222  &  0.3268877   &  0.1435739   &  0.27057136  & -0.688045876 & -0.25834115 \\\\\n",
       "\t -0.3143399   & -0.33404488  &  0.28189810  & -0.24125906  &  0.4714638   &  0.6337001   &  0.09750212  &  0.118457894 & -0.06737301 \\\\\n",
       "\t  0.4224730   & -0.14009678  & -0.12626640  &  0.33775943  &  0.1396997   &  0.1979712   & -0.55720360  &  0.293178898 & -0.46553895 \\\\\n",
       "\t  0.0931764   & -0.50462753  &  0.28129597  &  0.63495877  &  0.2113138   & -0.2712456   &  0.25218441  &  0.003640526 &  0.26931625 \\\\\n",
       "\\end{tabular}\n"
      ],
      "text/markdown": [
       "\n",
       "| -0.3097482   |  0.06597175  | -0.51511760  |  0.46382164  | -0.2011695   |  0.3320790   |  0.44948607  |  0.044366706 | -0.25391992  |\n",
       "| -0.3242371   |  0.26023489  |  0.60620736  |  0.14196192  | -0.1179686   | -0.2453928   |  0.07085976  |  0.108072325 | -0.59048506  |\n",
       "| -0.4356002   |  0.04921056  |  0.07864397  |  0.32605111  | -0.1014603   |  0.1834209   | -0.57015331  | -0.536011473 |  0.19752481  |\n",
       "| -0.3375943   |  0.19182069  | -0.36708729  |  0.01350964  |  0.7150679   | -0.4303987   | -0.10237969  |  0.046233269 | -0.07151918  |\n",
       "| -0.1300092   | -0.66708007  | -0.21250506  | -0.28338151  | -0.1751990   | -0.2750701   | -0.02442142  | -0.351425146 | -0.42683018  |\n",
       "|  0.4385563   |  0.24052196  |  0.08082681  |  0.04959222  |  0.3268877   |  0.1435739   |  0.27057136  | -0.688045876 | -0.25834115  |\n",
       "| -0.3143399   | -0.33404488  |  0.28189810  | -0.24125906  |  0.4714638   |  0.6337001   |  0.09750212  |  0.118457894 | -0.06737301  |\n",
       "|  0.4224730   | -0.14009678  | -0.12626640  |  0.33775943  |  0.1396997   |  0.1979712   | -0.55720360  |  0.293178898 | -0.46553895  |\n",
       "|  0.0931764   | -0.50462753  |  0.28129597  |  0.63495877  |  0.2113138   | -0.2712456   |  0.25218441  |  0.003640526 |  0.26931625  |\n",
       "\n"
      ],
      "text/plain": [
       "      [,1]       [,2]        [,3]        [,4]        [,5]       [,6]      \n",
       " [1,] -0.3097482  0.06597175 -0.51511760  0.46382164 -0.2011695  0.3320790\n",
       " [2,] -0.3242371  0.26023489  0.60620736  0.14196192 -0.1179686 -0.2453928\n",
       " [3,] -0.4356002  0.04921056  0.07864397  0.32605111 -0.1014603  0.1834209\n",
       " [4,] -0.3375943  0.19182069 -0.36708729  0.01350964  0.7150679 -0.4303987\n",
       " [5,] -0.1300092 -0.66708007 -0.21250506 -0.28338151 -0.1751990 -0.2750701\n",
       " [6,]  0.4385563  0.24052196  0.08082681  0.04959222  0.3268877  0.1435739\n",
       " [7,] -0.3143399 -0.33404488  0.28189810 -0.24125906  0.4714638  0.6337001\n",
       " [8,]  0.4224730 -0.14009678 -0.12626640  0.33775943  0.1396997  0.1979712\n",
       " [9,]  0.0931764 -0.50462753  0.28129597  0.63495877  0.2113138 -0.2712456\n",
       "      [,7]        [,8]         [,9]       \n",
       " [1,]  0.44948607  0.044366706 -0.25391992\n",
       " [2,]  0.07085976  0.108072325 -0.59048506\n",
       " [3,] -0.57015331 -0.536011473  0.19752481\n",
       " [4,] -0.10237969  0.046233269 -0.07151918\n",
       " [5,] -0.02442142 -0.351425146 -0.42683018\n",
       " [6,]  0.27057136 -0.688045876 -0.25834115\n",
       " [7,]  0.09750212  0.118457894 -0.06737301\n",
       " [8,] -0.55720360  0.293178898 -0.46553895\n",
       " [9,]  0.25218441  0.003640526  0.26931625"
      ]
     },
     "metadata": {},
     "output_type": "display_data"
    }
   ],
   "source": [
    "Eigenvectors<-eigen(cor(data_Pro[,2:10]))$vectors\n",
    "Eigenvectors"
   ]
  },
  {
   "cell_type": "code",
   "execution_count": 26,
   "metadata": {},
   "outputs": [
    {
     "data": {
      "text/html": [
       "<table>\n",
       "<tbody>\n",
       "\t<tr><td>14.013551  </td><td>10.9742896 </td><td> -4.2524024</td><td>10.000033  </td><td>19.319174  </td><td> 6.29771815</td><td>12.305636  </td><td>-26.74200  </td><td>-17.08528  </td></tr>\n",
       "\t<tr><td>-4.062478  </td><td>10.0384351 </td><td>  0.8126380</td><td>10.880699  </td><td>21.924068  </td><td>-3.44147076</td><td> 8.739197  </td><td>-18.65697  </td><td>-18.92013  </td></tr>\n",
       "\t<tr><td>-4.342148  </td><td> 6.0486830 </td><td> -3.7573824</td><td>11.072956  </td><td>20.017589  </td><td> 0.94506090</td><td>10.079459  </td><td>-18.36253  </td><td>-18.43817  </td></tr>\n",
       "\t<tr><td>18.458399  </td><td>13.5786934 </td><td>  2.0505522</td><td>11.226365  </td><td>23.743102  </td><td> 5.93991409</td><td>16.586017  </td><td>-37.68294  </td><td>-21.62667  </td></tr>\n",
       "\t<tr><td> 1.907721  </td><td> 9.2150539 </td><td>  2.2888660</td><td>10.038575  </td><td>19.576166  </td><td> 2.23301534</td><td>12.406720  </td><td>-22.63401  </td><td>-19.02193  </td></tr>\n",
       "\t<tr><td>-9.508854  </td><td> 4.2381826 </td><td> -6.1932649</td><td> 6.876710  </td><td>22.387175  </td><td>-6.26108924</td><td> 7.227729  </td><td>-16.95470  </td><td>-20.01213  </td></tr>\n",
       "\t<tr><td>-3.005412  </td><td> 4.0987557 </td><td>  2.5061336</td><td> 7.576790  </td><td>15.535957  </td><td> 1.19162240</td><td> 8.971719  </td><td>-17.64973  </td><td>-17.54647  </td></tr>\n",
       "\t<tr><td>-7.354654  </td><td> 8.4055673 </td><td>-11.4832601</td><td> 6.094475  </td><td>31.755685  </td><td>-6.82618845</td><td> 6.895219  </td><td>-18.16959  </td><td>-16.88458  </td></tr>\n",
       "\t<tr><td>-5.112853  </td><td> 5.4032991 </td><td> -6.2308911</td><td>14.651697  </td><td>20.978819  </td><td>-0.01912913</td><td>13.148124  </td><td>-19.04009  </td><td>-20.54160  </td></tr>\n",
       "\t<tr><td> 9.436650  </td><td> 5.9537108 </td><td> -6.0956908</td><td>12.934610  </td><td>25.993230  </td><td> 1.12892786</td><td>10.045280  </td><td>-28.10422  </td><td>-20.38710  </td></tr>\n",
       "\t<tr><td> 8.762332  </td><td>10.8126029 </td><td>  6.2587694</td><td>10.724499  </td><td>20.696302  </td><td> 3.21360823</td><td> 9.897278  </td><td>-25.15451  </td><td>-20.92851  </td></tr>\n",
       "\t<tr><td>-9.068532  </td><td> 9.2459176 </td><td> -6.3654539</td><td>11.200492  </td><td>25.215218  </td><td>-1.78053568</td><td> 8.519645  </td><td>-15.70117  </td><td>-17.87194  </td></tr>\n",
       "\t<tr><td> 7.148019  </td><td> 6.5898187 </td><td> -2.1597963</td><td>12.090473  </td><td>21.530404  </td><td> 1.08564976</td><td>10.723121  </td><td>-24.95168  </td><td>-17.00080  </td></tr>\n",
       "\t<tr><td>-7.536484  </td><td> 9.0293954 </td><td> -1.6791759</td><td>10.173336  </td><td>22.749603  </td><td>-5.05094546</td><td> 7.124944  </td><td>-14.20859  </td><td>-18.38368  </td></tr>\n",
       "\t<tr><td>-5.170339  </td><td> 2.3836017 </td><td> -8.6818043</td><td> 5.759090  </td><td>22.723480  </td><td>-4.43142516</td><td> 6.857485  </td><td>-17.65507  </td><td>-16.70493  </td></tr>\n",
       "\t<tr><td> 1.910990  </td><td> 8.0446112 </td><td>  1.3041097</td><td>10.172408  </td><td>26.666273  </td><td>-1.32075934</td><td>11.128516  </td><td>-23.72991  </td><td>-18.77970  </td></tr>\n",
       "\t<tr><td> 5.608514  </td><td>-7.2283744 </td><td> -0.2062443</td><td> 6.320994  </td><td>13.154236  </td><td> 1.74070167</td><td> 8.827471  </td><td>-21.15000  </td><td>-17.38640  </td></tr>\n",
       "\t<tr><td>14.784103  </td><td>12.3233300 </td><td>  1.4574800</td><td> 9.405587  </td><td>24.626664  </td><td> 5.11104818</td><td>12.692698  </td><td>-31.88214  </td><td>-20.95461  </td></tr>\n",
       "\t<tr><td> 5.712214  </td><td>-0.8548557 </td><td> -0.7495985</td><td> 9.556475  </td><td>17.357418  </td><td> 3.48462204</td><td> 7.598056  </td><td>-20.70132  </td><td>-15.53622  </td></tr>\n",
       "\t<tr><td>-1.515313  </td><td> 1.0024677 </td><td> -0.4101264</td><td> 6.595621  </td><td> 7.516914  </td><td> 2.80864248</td><td> 7.703920  </td><td>-15.57311  </td><td>-15.36567  </td></tr>\n",
       "\t<tr><td>-5.199232  </td><td> 9.0893326 </td><td> -5.6731971</td><td>12.706345  </td><td>23.533468  </td><td>-3.83989736</td><td> 9.441718  </td><td>-16.25765  </td><td>-17.96161  </td></tr>\n",
       "\t<tr><td>-5.875161  </td><td> 6.0786716 </td><td> -9.8258241</td><td>12.786797  </td><td>20.658973  </td><td> 1.43772827</td><td> 9.302064  </td><td>-16.84392  </td><td>-17.45270  </td></tr>\n",
       "\t<tr><td> 7.534899  </td><td> 9.5060644 </td><td> -2.8534023</td><td> 8.633314  </td><td>27.075391  </td><td> 4.57687716</td><td>12.793854  </td><td>-28.73599  </td><td>-19.62727  </td></tr>\n",
       "\t<tr><td>-8.648498  </td><td> 6.1538794 </td><td> -1.7472927</td><td>10.276735  </td><td>18.207937  </td><td>-2.32447854</td><td> 7.326622  </td><td>-12.39469  </td><td>-17.09207  </td></tr>\n",
       "\t<tr><td>19.486591  </td><td>13.1022343 </td><td>  2.7884015</td><td> 9.105724  </td><td>26.251188  </td><td> 6.38779237</td><td>13.708969  </td><td>-36.10290  </td><td>-21.20332  </td></tr>\n",
       "</tbody>\n",
       "</table>\n"
      ],
      "text/latex": [
       "\\begin{tabular}{lllllllll}\n",
       "\t 14.013551   & 10.9742896  &  -4.2524024 & 10.000033   & 19.319174   &  6.29771815 & 12.305636   & -26.74200   & -17.08528  \\\\\n",
       "\t -4.062478   & 10.0384351  &   0.8126380 & 10.880699   & 21.924068   & -3.44147076 &  8.739197   & -18.65697   & -18.92013  \\\\\n",
       "\t -4.342148   &  6.0486830  &  -3.7573824 & 11.072956   & 20.017589   &  0.94506090 & 10.079459   & -18.36253   & -18.43817  \\\\\n",
       "\t 18.458399   & 13.5786934  &   2.0505522 & 11.226365   & 23.743102   &  5.93991409 & 16.586017   & -37.68294   & -21.62667  \\\\\n",
       "\t  1.907721   &  9.2150539  &   2.2888660 & 10.038575   & 19.576166   &  2.23301534 & 12.406720   & -22.63401   & -19.02193  \\\\\n",
       "\t -9.508854   &  4.2381826  &  -6.1932649 &  6.876710   & 22.387175   & -6.26108924 &  7.227729   & -16.95470   & -20.01213  \\\\\n",
       "\t -3.005412   &  4.0987557  &   2.5061336 &  7.576790   & 15.535957   &  1.19162240 &  8.971719   & -17.64973   & -17.54647  \\\\\n",
       "\t -7.354654   &  8.4055673  & -11.4832601 &  6.094475   & 31.755685   & -6.82618845 &  6.895219   & -18.16959   & -16.88458  \\\\\n",
       "\t -5.112853   &  5.4032991  &  -6.2308911 & 14.651697   & 20.978819   & -0.01912913 & 13.148124   & -19.04009   & -20.54160  \\\\\n",
       "\t  9.436650   &  5.9537108  &  -6.0956908 & 12.934610   & 25.993230   &  1.12892786 & 10.045280   & -28.10422   & -20.38710  \\\\\n",
       "\t  8.762332   & 10.8126029  &   6.2587694 & 10.724499   & 20.696302   &  3.21360823 &  9.897278   & -25.15451   & -20.92851  \\\\\n",
       "\t -9.068532   &  9.2459176  &  -6.3654539 & 11.200492   & 25.215218   & -1.78053568 &  8.519645   & -15.70117   & -17.87194  \\\\\n",
       "\t  7.148019   &  6.5898187  &  -2.1597963 & 12.090473   & 21.530404   &  1.08564976 & 10.723121   & -24.95168   & -17.00080  \\\\\n",
       "\t -7.536484   &  9.0293954  &  -1.6791759 & 10.173336   & 22.749603   & -5.05094546 &  7.124944   & -14.20859   & -18.38368  \\\\\n",
       "\t -5.170339   &  2.3836017  &  -8.6818043 &  5.759090   & 22.723480   & -4.43142516 &  6.857485   & -17.65507   & -16.70493  \\\\\n",
       "\t  1.910990   &  8.0446112  &   1.3041097 & 10.172408   & 26.666273   & -1.32075934 & 11.128516   & -23.72991   & -18.77970  \\\\\n",
       "\t  5.608514   & -7.2283744  &  -0.2062443 &  6.320994   & 13.154236   &  1.74070167 &  8.827471   & -21.15000   & -17.38640  \\\\\n",
       "\t 14.784103   & 12.3233300  &   1.4574800 &  9.405587   & 24.626664   &  5.11104818 & 12.692698   & -31.88214   & -20.95461  \\\\\n",
       "\t  5.712214   & -0.8548557  &  -0.7495985 &  9.556475   & 17.357418   &  3.48462204 &  7.598056   & -20.70132   & -15.53622  \\\\\n",
       "\t -1.515313   &  1.0024677  &  -0.4101264 &  6.595621   &  7.516914   &  2.80864248 &  7.703920   & -15.57311   & -15.36567  \\\\\n",
       "\t -5.199232   &  9.0893326  &  -5.6731971 & 12.706345   & 23.533468   & -3.83989736 &  9.441718   & -16.25765   & -17.96161  \\\\\n",
       "\t -5.875161   &  6.0786716  &  -9.8258241 & 12.786797   & 20.658973   &  1.43772827 &  9.302064   & -16.84392   & -17.45270  \\\\\n",
       "\t  7.534899   &  9.5060644  &  -2.8534023 &  8.633314   & 27.075391   &  4.57687716 & 12.793854   & -28.73599   & -19.62727  \\\\\n",
       "\t -8.648498   &  6.1538794  &  -1.7472927 & 10.276735   & 18.207937   & -2.32447854 &  7.326622   & -12.39469   & -17.09207  \\\\\n",
       "\t 19.486591   & 13.1022343  &   2.7884015 &  9.105724   & 26.251188   &  6.38779237 & 13.708969   & -36.10290   & -21.20332  \\\\\n",
       "\\end{tabular}\n"
      ],
      "text/markdown": [
       "\n",
       "| 14.013551   | 10.9742896  |  -4.2524024 | 10.000033   | 19.319174   |  6.29771815 | 12.305636   | -26.74200   | -17.08528   |\n",
       "| -4.062478   | 10.0384351  |   0.8126380 | 10.880699   | 21.924068   | -3.44147076 |  8.739197   | -18.65697   | -18.92013   |\n",
       "| -4.342148   |  6.0486830  |  -3.7573824 | 11.072956   | 20.017589   |  0.94506090 | 10.079459   | -18.36253   | -18.43817   |\n",
       "| 18.458399   | 13.5786934  |   2.0505522 | 11.226365   | 23.743102   |  5.93991409 | 16.586017   | -37.68294   | -21.62667   |\n",
       "|  1.907721   |  9.2150539  |   2.2888660 | 10.038575   | 19.576166   |  2.23301534 | 12.406720   | -22.63401   | -19.02193   |\n",
       "| -9.508854   |  4.2381826  |  -6.1932649 |  6.876710   | 22.387175   | -6.26108924 |  7.227729   | -16.95470   | -20.01213   |\n",
       "| -3.005412   |  4.0987557  |   2.5061336 |  7.576790   | 15.535957   |  1.19162240 |  8.971719   | -17.64973   | -17.54647   |\n",
       "| -7.354654   |  8.4055673  | -11.4832601 |  6.094475   | 31.755685   | -6.82618845 |  6.895219   | -18.16959   | -16.88458   |\n",
       "| -5.112853   |  5.4032991  |  -6.2308911 | 14.651697   | 20.978819   | -0.01912913 | 13.148124   | -19.04009   | -20.54160   |\n",
       "|  9.436650   |  5.9537108  |  -6.0956908 | 12.934610   | 25.993230   |  1.12892786 | 10.045280   | -28.10422   | -20.38710   |\n",
       "|  8.762332   | 10.8126029  |   6.2587694 | 10.724499   | 20.696302   |  3.21360823 |  9.897278   | -25.15451   | -20.92851   |\n",
       "| -9.068532   |  9.2459176  |  -6.3654539 | 11.200492   | 25.215218   | -1.78053568 |  8.519645   | -15.70117   | -17.87194   |\n",
       "|  7.148019   |  6.5898187  |  -2.1597963 | 12.090473   | 21.530404   |  1.08564976 | 10.723121   | -24.95168   | -17.00080   |\n",
       "| -7.536484   |  9.0293954  |  -1.6791759 | 10.173336   | 22.749603   | -5.05094546 |  7.124944   | -14.20859   | -18.38368   |\n",
       "| -5.170339   |  2.3836017  |  -8.6818043 |  5.759090   | 22.723480   | -4.43142516 |  6.857485   | -17.65507   | -16.70493   |\n",
       "|  1.910990   |  8.0446112  |   1.3041097 | 10.172408   | 26.666273   | -1.32075934 | 11.128516   | -23.72991   | -18.77970   |\n",
       "|  5.608514   | -7.2283744  |  -0.2062443 |  6.320994   | 13.154236   |  1.74070167 |  8.827471   | -21.15000   | -17.38640   |\n",
       "| 14.784103   | 12.3233300  |   1.4574800 |  9.405587   | 24.626664   |  5.11104818 | 12.692698   | -31.88214   | -20.95461   |\n",
       "|  5.712214   | -0.8548557  |  -0.7495985 |  9.556475   | 17.357418   |  3.48462204 |  7.598056   | -20.70132   | -15.53622   |\n",
       "| -1.515313   |  1.0024677  |  -0.4101264 |  6.595621   |  7.516914   |  2.80864248 |  7.703920   | -15.57311   | -15.36567   |\n",
       "| -5.199232   |  9.0893326  |  -5.6731971 | 12.706345   | 23.533468   | -3.83989736 |  9.441718   | -16.25765   | -17.96161   |\n",
       "| -5.875161   |  6.0786716  |  -9.8258241 | 12.786797   | 20.658973   |  1.43772827 |  9.302064   | -16.84392   | -17.45270   |\n",
       "|  7.534899   |  9.5060644  |  -2.8534023 |  8.633314   | 27.075391   |  4.57687716 | 12.793854   | -28.73599   | -19.62727   |\n",
       "| -8.648498   |  6.1538794  |  -1.7472927 | 10.276735   | 18.207937   | -2.32447854 |  7.326622   | -12.39469   | -17.09207   |\n",
       "| 19.486591   | 13.1022343  |   2.7884015 |  9.105724   | 26.251188   |  6.38779237 | 13.708969   | -36.10290   | -21.20332   |\n",
       "\n"
      ],
      "text/plain": [
       "      [,1]      [,2]       [,3]        [,4]      [,5]      [,6]       \n",
       " [1,] 14.013551 10.9742896  -4.2524024 10.000033 19.319174  6.29771815\n",
       " [2,] -4.062478 10.0384351   0.8126380 10.880699 21.924068 -3.44147076\n",
       " [3,] -4.342148  6.0486830  -3.7573824 11.072956 20.017589  0.94506090\n",
       " [4,] 18.458399 13.5786934   2.0505522 11.226365 23.743102  5.93991409\n",
       " [5,]  1.907721  9.2150539   2.2888660 10.038575 19.576166  2.23301534\n",
       " [6,] -9.508854  4.2381826  -6.1932649  6.876710 22.387175 -6.26108924\n",
       " [7,] -3.005412  4.0987557   2.5061336  7.576790 15.535957  1.19162240\n",
       " [8,] -7.354654  8.4055673 -11.4832601  6.094475 31.755685 -6.82618845\n",
       " [9,] -5.112853  5.4032991  -6.2308911 14.651697 20.978819 -0.01912913\n",
       "[10,]  9.436650  5.9537108  -6.0956908 12.934610 25.993230  1.12892786\n",
       "[11,]  8.762332 10.8126029   6.2587694 10.724499 20.696302  3.21360823\n",
       "[12,] -9.068532  9.2459176  -6.3654539 11.200492 25.215218 -1.78053568\n",
       "[13,]  7.148019  6.5898187  -2.1597963 12.090473 21.530404  1.08564976\n",
       "[14,] -7.536484  9.0293954  -1.6791759 10.173336 22.749603 -5.05094546\n",
       "[15,] -5.170339  2.3836017  -8.6818043  5.759090 22.723480 -4.43142516\n",
       "[16,]  1.910990  8.0446112   1.3041097 10.172408 26.666273 -1.32075934\n",
       "[17,]  5.608514 -7.2283744  -0.2062443  6.320994 13.154236  1.74070167\n",
       "[18,] 14.784103 12.3233300   1.4574800  9.405587 24.626664  5.11104818\n",
       "[19,]  5.712214 -0.8548557  -0.7495985  9.556475 17.357418  3.48462204\n",
       "[20,] -1.515313  1.0024677  -0.4101264  6.595621  7.516914  2.80864248\n",
       "[21,] -5.199232  9.0893326  -5.6731971 12.706345 23.533468 -3.83989736\n",
       "[22,] -5.875161  6.0786716  -9.8258241 12.786797 20.658973  1.43772827\n",
       "[23,]  7.534899  9.5060644  -2.8534023  8.633314 27.075391  4.57687716\n",
       "[24,] -8.648498  6.1538794  -1.7472927 10.276735 18.207937 -2.32447854\n",
       "[25,] 19.486591 13.1022343   2.7884015  9.105724 26.251188  6.38779237\n",
       "      [,7]      [,8]      [,9]     \n",
       " [1,] 12.305636 -26.74200 -17.08528\n",
       " [2,]  8.739197 -18.65697 -18.92013\n",
       " [3,] 10.079459 -18.36253 -18.43817\n",
       " [4,] 16.586017 -37.68294 -21.62667\n",
       " [5,] 12.406720 -22.63401 -19.02193\n",
       " [6,]  7.227729 -16.95470 -20.01213\n",
       " [7,]  8.971719 -17.64973 -17.54647\n",
       " [8,]  6.895219 -18.16959 -16.88458\n",
       " [9,] 13.148124 -19.04009 -20.54160\n",
       "[10,] 10.045280 -28.10422 -20.38710\n",
       "[11,]  9.897278 -25.15451 -20.92851\n",
       "[12,]  8.519645 -15.70117 -17.87194\n",
       "[13,] 10.723121 -24.95168 -17.00080\n",
       "[14,]  7.124944 -14.20859 -18.38368\n",
       "[15,]  6.857485 -17.65507 -16.70493\n",
       "[16,] 11.128516 -23.72991 -18.77970\n",
       "[17,]  8.827471 -21.15000 -17.38640\n",
       "[18,] 12.692698 -31.88214 -20.95461\n",
       "[19,]  7.598056 -20.70132 -15.53622\n",
       "[20,]  7.703920 -15.57311 -15.36567\n",
       "[21,]  9.441718 -16.25765 -17.96161\n",
       "[22,]  9.302064 -16.84392 -17.45270\n",
       "[23,] 12.793854 -28.73599 -19.62727\n",
       "[24,]  7.326622 -12.39469 -17.09207\n",
       "[25,] 13.708969 -36.10290 -21.20332"
      ]
     },
     "metadata": {},
     "output_type": "display_data"
    }
   ],
   "source": [
    "PC<-as.matrix(data_Pro[,2:10])%*%Eigenvectors\n",
    "PC"
   ]
  },
  {
   "cell_type": "code",
   "execution_count": 27,
   "metadata": {},
   "outputs": [
    {
     "data": {
      "text/html": [
       "<table>\n",
       "<tbody>\n",
       "\t<tr><td> 1.00000000</td><td> 0.3208029 </td><td> 0.52847245</td><td> 0.06498765</td><td> 0.09059303</td><td> 0.8405323 </td><td> 0.7348962 </td><td>-0.9404086 </td><td>-0.4494103 </td></tr>\n",
       "\t<tr><td> 0.32080286</td><td> 1.0000000 </td><td> 0.18116240</td><td> 0.38556397</td><td> 0.61769986</td><td> 0.1815016 </td><td> 0.5483145 </td><td>-0.4759052 </td><td>-0.5892502 </td></tr>\n",
       "\t<tr><td> 0.52847245</td><td> 0.1811624 </td><td> 1.00000000</td><td>-0.03177994</td><td>-0.31054484</td><td> 0.5286890 </td><td> 0.3809148 </td><td>-0.4258922 </td><td>-0.3358082 </td></tr>\n",
       "\t<tr><td> 0.06498765</td><td> 0.3855640 </td><td>-0.03177994</td><td> 1.00000000</td><td> 0.18945910</td><td> 0.1540858 </td><td> 0.4055560 </td><td>-0.1082053 </td><td>-0.3459366 </td></tr>\n",
       "\t<tr><td> 0.09059303</td><td> 0.6176999 </td><td>-0.31054484</td><td> 0.18945910</td><td> 1.00000000</td><td>-0.2399557 </td><td> 0.2308171 </td><td>-0.3398203 </td><td>-0.4701100 </td></tr>\n",
       "\t<tr><td> 0.84053231</td><td> 0.1815016 </td><td> 0.52868900</td><td> 0.15408576</td><td>-0.23995574</td><td> 1.0000000 </td><td> 0.7147249 </td><td>-0.7287427 </td><td>-0.2690467 </td></tr>\n",
       "\t<tr><td> 0.73489619</td><td> 0.5483145 </td><td> 0.38091478</td><td> 0.40555604</td><td> 0.23081708</td><td> 0.7147249 </td><td> 1.0000000 </td><td>-0.8289232 </td><td>-0.6685915 </td></tr>\n",
       "\t<tr><td>-0.94040855</td><td>-0.4759052 </td><td>-0.42589223</td><td>-0.10820535</td><td>-0.33982032</td><td>-0.7287427 </td><td>-0.8289232 </td><td> 1.0000000 </td><td> 0.6424546 </td></tr>\n",
       "\t<tr><td>-0.44941029</td><td>-0.5892502 </td><td>-0.33580822</td><td>-0.34593658</td><td>-0.47011002</td><td>-0.2690467 </td><td>-0.6685915 </td><td> 0.6424546 </td><td> 1.0000000 </td></tr>\n",
       "</tbody>\n",
       "</table>\n"
      ],
      "text/latex": [
       "\\begin{tabular}{lllllllll}\n",
       "\t  1.00000000 &  0.3208029  &  0.52847245 &  0.06498765 &  0.09059303 &  0.8405323  &  0.7348962  & -0.9404086  & -0.4494103 \\\\\n",
       "\t  0.32080286 &  1.0000000  &  0.18116240 &  0.38556397 &  0.61769986 &  0.1815016  &  0.5483145  & -0.4759052  & -0.5892502 \\\\\n",
       "\t  0.52847245 &  0.1811624  &  1.00000000 & -0.03177994 & -0.31054484 &  0.5286890  &  0.3809148  & -0.4258922  & -0.3358082 \\\\\n",
       "\t  0.06498765 &  0.3855640  & -0.03177994 &  1.00000000 &  0.18945910 &  0.1540858  &  0.4055560  & -0.1082053  & -0.3459366 \\\\\n",
       "\t  0.09059303 &  0.6176999  & -0.31054484 &  0.18945910 &  1.00000000 & -0.2399557  &  0.2308171  & -0.3398203  & -0.4701100 \\\\\n",
       "\t  0.84053231 &  0.1815016  &  0.52868900 &  0.15408576 & -0.23995574 &  1.0000000  &  0.7147249  & -0.7287427  & -0.2690467 \\\\\n",
       "\t  0.73489619 &  0.5483145  &  0.38091478 &  0.40555604 &  0.23081708 &  0.7147249  &  1.0000000  & -0.8289232  & -0.6685915 \\\\\n",
       "\t -0.94040855 & -0.4759052  & -0.42589223 & -0.10820535 & -0.33982032 & -0.7287427  & -0.8289232  &  1.0000000  &  0.6424546 \\\\\n",
       "\t -0.44941029 & -0.5892502  & -0.33580822 & -0.34593658 & -0.47011002 & -0.2690467  & -0.6685915  &  0.6424546  &  1.0000000 \\\\\n",
       "\\end{tabular}\n"
      ],
      "text/markdown": [
       "\n",
       "|  1.00000000 |  0.3208029  |  0.52847245 |  0.06498765 |  0.09059303 |  0.8405323  |  0.7348962  | -0.9404086  | -0.4494103  |\n",
       "|  0.32080286 |  1.0000000  |  0.18116240 |  0.38556397 |  0.61769986 |  0.1815016  |  0.5483145  | -0.4759052  | -0.5892502  |\n",
       "|  0.52847245 |  0.1811624  |  1.00000000 | -0.03177994 | -0.31054484 |  0.5286890  |  0.3809148  | -0.4258922  | -0.3358082  |\n",
       "|  0.06498765 |  0.3855640  | -0.03177994 |  1.00000000 |  0.18945910 |  0.1540858  |  0.4055560  | -0.1082053  | -0.3459366  |\n",
       "|  0.09059303 |  0.6176999  | -0.31054484 |  0.18945910 |  1.00000000 | -0.2399557  |  0.2308171  | -0.3398203  | -0.4701100  |\n",
       "|  0.84053231 |  0.1815016  |  0.52868900 |  0.15408576 | -0.23995574 |  1.0000000  |  0.7147249  | -0.7287427  | -0.2690467  |\n",
       "|  0.73489619 |  0.5483145  |  0.38091478 |  0.40555604 |  0.23081708 |  0.7147249  |  1.0000000  | -0.8289232  | -0.6685915  |\n",
       "| -0.94040855 | -0.4759052  | -0.42589223 | -0.10820535 | -0.33982032 | -0.7287427  | -0.8289232  |  1.0000000  |  0.6424546  |\n",
       "| -0.44941029 | -0.5892502  | -0.33580822 | -0.34593658 | -0.47011002 | -0.2690467  | -0.6685915  |  0.6424546  |  1.0000000  |\n",
       "\n"
      ],
      "text/plain": [
       "      [,1]        [,2]       [,3]        [,4]        [,5]        [,6]      \n",
       " [1,]  1.00000000  0.3208029  0.52847245  0.06498765  0.09059303  0.8405323\n",
       " [2,]  0.32080286  1.0000000  0.18116240  0.38556397  0.61769986  0.1815016\n",
       " [3,]  0.52847245  0.1811624  1.00000000 -0.03177994 -0.31054484  0.5286890\n",
       " [4,]  0.06498765  0.3855640 -0.03177994  1.00000000  0.18945910  0.1540858\n",
       " [5,]  0.09059303  0.6176999 -0.31054484  0.18945910  1.00000000 -0.2399557\n",
       " [6,]  0.84053231  0.1815016  0.52868900  0.15408576 -0.23995574  1.0000000\n",
       " [7,]  0.73489619  0.5483145  0.38091478  0.40555604  0.23081708  0.7147249\n",
       " [8,] -0.94040855 -0.4759052 -0.42589223 -0.10820535 -0.33982032 -0.7287427\n",
       " [9,] -0.44941029 -0.5892502 -0.33580822 -0.34593658 -0.47011002 -0.2690467\n",
       "      [,7]       [,8]       [,9]      \n",
       " [1,]  0.7348962 -0.9404086 -0.4494103\n",
       " [2,]  0.5483145 -0.4759052 -0.5892502\n",
       " [3,]  0.3809148 -0.4258922 -0.3358082\n",
       " [4,]  0.4055560 -0.1082053 -0.3459366\n",
       " [5,]  0.2308171 -0.3398203 -0.4701100\n",
       " [6,]  0.7147249 -0.7287427 -0.2690467\n",
       " [7,]  1.0000000 -0.8289232 -0.6685915\n",
       " [8,] -0.8289232  1.0000000  0.6424546\n",
       " [9,] -0.6685915  0.6424546  1.0000000"
      ]
     },
     "metadata": {},
     "output_type": "display_data"
    }
   ],
   "source": [
    "cor(PC)"
   ]
  },
  {
   "cell_type": "code",
   "execution_count": 27,
   "metadata": {},
   "outputs": [
    {
     "name": "stdout",
     "output_type": "stream",
     "text": [
      "[1] 43.13 18.16 11.78 10.62  5.90  4.74  3.20  1.31  1.16\n"
     ]
    }
   ],
   "source": [
    "print(round(Eigenvalue/sum(Eigenvalue)*100,digits = 2)) #proportion of Variance*100"
   ]
  },
  {
   "cell_type": "markdown",
   "metadata": {},
   "source": [
    "we see the proportion of Variance are decreasing from PC1 until PC9 here than i choose from them as what i say it before i take PC1 whith PC2 it will show 61%  . "
   ]
  },
  {
   "cell_type": "code",
   "execution_count": 31,
   "metadata": {},
   "outputs": [
    {
     "data": {
      "text/html": [
       "<ol class=list-inline>\n",
       "\t<li>43.13</li>\n",
       "\t<li>61.29</li>\n",
       "\t<li>73.07</li>\n",
       "\t<li>83.69</li>\n",
       "\t<li>89.59</li>\n",
       "\t<li>94.33</li>\n",
       "\t<li>97.52</li>\n",
       "\t<li>98.84</li>\n",
       "\t<li>100</li>\n",
       "</ol>\n"
      ],
      "text/latex": [
       "\\begin{enumerate*}\n",
       "\\item 43.13\n",
       "\\item 61.29\n",
       "\\item 73.07\n",
       "\\item 83.69\n",
       "\\item 89.59\n",
       "\\item 94.33\n",
       "\\item 97.52\n",
       "\\item 98.84\n",
       "\\item 100\n",
       "\\end{enumerate*}\n"
      ],
      "text/markdown": [
       "1. 43.13\n",
       "2. 61.29\n",
       "3. 73.07\n",
       "4. 83.69\n",
       "5. 89.59\n",
       "6. 94.33\n",
       "7. 97.52\n",
       "8. 98.84\n",
       "9. 100\n",
       "\n",
       "\n"
      ],
      "text/plain": [
       "[1]  43.13  61.29  73.07  83.69  89.59  94.33  97.52  98.84 100.00"
      ]
     },
     "metadata": {},
     "output_type": "display_data"
    }
   ],
   "source": [
    "round(cumsum(Eigenvalue)/sum(Eigenvalue)*100,digits = 2) #Cumulative Proportion"
   ]
  },
  {
   "cell_type": "markdown",
   "metadata": {},
   "source": [
    "_______________________________________________________________________________________________________________________________\n",
    "# LOOCV Oil Residuals\n",
    "\n",
    "# Question2:The table below shows data percentages of different types of residuals during the analysis of crude oil obtained from 2 different fields\n",
    "\n",
    "### Using the above oil data, perform LOOCV. Meaning get the estimated Fisherfunction using 17 samples then classify the 18th one using this function. Repeat the process until you exhaust all the 18 samples.\n",
    "### At the end write a table containing 3 columns, y hat ,m hat and the classification result."
   ]
  },
  {
   "cell_type": "code",
   "execution_count": 24,
   "metadata": {},
   "outputs": [
    {
     "data": {
      "text/html": [
       "<table>\n",
       "<thead><tr><th scope=col>ï..x1</th><th scope=col>x2</th><th scope=col>x3</th><th scope=col>x4</th><th scope=col>x5</th><th scope=col>population</th></tr></thead>\n",
       "<tbody>\n",
       "\t<tr><td>3.9  </td><td>51   </td><td>0.20 </td><td>7.06 </td><td>12.19</td><td>1    </td></tr>\n",
       "\t<tr><td>2.7  </td><td>49   </td><td>0.07 </td><td>7.14 </td><td>12.23</td><td>1    </td></tr>\n",
       "\t<tr><td>2.8  </td><td>36   </td><td>0.30 </td><td>7.00 </td><td>11.30</td><td>1    </td></tr>\n",
       "\t<tr><td>3.1  </td><td>45   </td><td>0.08 </td><td>7.20 </td><td>13.01</td><td>1    </td></tr>\n",
       "\t<tr><td>3.5  </td><td>46   </td><td>0.10 </td><td>7.81 </td><td>12.63</td><td>1    </td></tr>\n",
       "\t<tr><td>3.9  </td><td>43   </td><td>0.07 </td><td>6.25 </td><td>10.42</td><td>1    </td></tr>\n",
       "\t<tr><td>2.7  </td><td>35   </td><td>0.00 </td><td>5.11 </td><td> 9.00</td><td>1    </td></tr>\n",
       "\t<tr><td>5.0  </td><td>47   </td><td>0.07 </td><td>7.06 </td><td> 6.10</td><td>2    </td></tr>\n",
       "\t<tr><td>3.4  </td><td>32   </td><td>0.20 </td><td>5.82 </td><td> 4.69</td><td>2    </td></tr>\n",
       "\t<tr><td>1.2  </td><td>12   </td><td>0.00 </td><td>5.54 </td><td> 3.15</td><td>2    </td></tr>\n",
       "\t<tr><td>8.4  </td><td>17   </td><td>0.07 </td><td>6.31 </td><td> 4.55</td><td>2    </td></tr>\n",
       "\t<tr><td>4.2  </td><td>36   </td><td>0.50 </td><td>9.25 </td><td> 4.95</td><td>2    </td></tr>\n",
       "\t<tr><td>4.2  </td><td>35   </td><td>0.50 </td><td>5.69 </td><td> 2.22</td><td>2    </td></tr>\n",
       "\t<tr><td>3.9  </td><td>41   </td><td>0.10 </td><td>5.63 </td><td> 2.94</td><td>2    </td></tr>\n",
       "\t<tr><td>3.9  </td><td>36   </td><td>0.07 </td><td>6.19 </td><td> 2.27</td><td>2    </td></tr>\n",
       "\t<tr><td>7.3  </td><td>32   </td><td>0.30 </td><td>8.02 </td><td>12.92</td><td>2    </td></tr>\n",
       "\t<tr><td>4.4  </td><td>46   </td><td>0.07 </td><td>7.54 </td><td> 5.76</td><td>2    </td></tr>\n",
       "\t<tr><td>3.0  </td><td>30   </td><td>0.00 </td><td>5.12 </td><td>10.77</td><td>2    </td></tr>\n",
       "</tbody>\n",
       "</table>\n"
      ],
      "text/latex": [
       "\\begin{tabular}{r|llllll}\n",
       " ï..x1 & x2 & x3 & x4 & x5 & population\\\\\n",
       "\\hline\n",
       "\t 3.9   & 51    & 0.20  & 7.06  & 12.19 & 1    \\\\\n",
       "\t 2.7   & 49    & 0.07  & 7.14  & 12.23 & 1    \\\\\n",
       "\t 2.8   & 36    & 0.30  & 7.00  & 11.30 & 1    \\\\\n",
       "\t 3.1   & 45    & 0.08  & 7.20  & 13.01 & 1    \\\\\n",
       "\t 3.5   & 46    & 0.10  & 7.81  & 12.63 & 1    \\\\\n",
       "\t 3.9   & 43    & 0.07  & 6.25  & 10.42 & 1    \\\\\n",
       "\t 2.7   & 35    & 0.00  & 5.11  &  9.00 & 1    \\\\\n",
       "\t 5.0   & 47    & 0.07  & 7.06  &  6.10 & 2    \\\\\n",
       "\t 3.4   & 32    & 0.20  & 5.82  &  4.69 & 2    \\\\\n",
       "\t 1.2   & 12    & 0.00  & 5.54  &  3.15 & 2    \\\\\n",
       "\t 8.4   & 17    & 0.07  & 6.31  &  4.55 & 2    \\\\\n",
       "\t 4.2   & 36    & 0.50  & 9.25  &  4.95 & 2    \\\\\n",
       "\t 4.2   & 35    & 0.50  & 5.69  &  2.22 & 2    \\\\\n",
       "\t 3.9   & 41    & 0.10  & 5.63  &  2.94 & 2    \\\\\n",
       "\t 3.9   & 36    & 0.07  & 6.19  &  2.27 & 2    \\\\\n",
       "\t 7.3   & 32    & 0.30  & 8.02  & 12.92 & 2    \\\\\n",
       "\t 4.4   & 46    & 0.07  & 7.54  &  5.76 & 2    \\\\\n",
       "\t 3.0   & 30    & 0.00  & 5.12  & 10.77 & 2    \\\\\n",
       "\\end{tabular}\n"
      ],
      "text/markdown": [
       "\n",
       "| ï..x1 | x2 | x3 | x4 | x5 | population |\n",
       "|---|---|---|---|---|---|\n",
       "| 3.9   | 51    | 0.20  | 7.06  | 12.19 | 1     |\n",
       "| 2.7   | 49    | 0.07  | 7.14  | 12.23 | 1     |\n",
       "| 2.8   | 36    | 0.30  | 7.00  | 11.30 | 1     |\n",
       "| 3.1   | 45    | 0.08  | 7.20  | 13.01 | 1     |\n",
       "| 3.5   | 46    | 0.10  | 7.81  | 12.63 | 1     |\n",
       "| 3.9   | 43    | 0.07  | 6.25  | 10.42 | 1     |\n",
       "| 2.7   | 35    | 0.00  | 5.11  |  9.00 | 1     |\n",
       "| 5.0   | 47    | 0.07  | 7.06  |  6.10 | 2     |\n",
       "| 3.4   | 32    | 0.20  | 5.82  |  4.69 | 2     |\n",
       "| 1.2   | 12    | 0.00  | 5.54  |  3.15 | 2     |\n",
       "| 8.4   | 17    | 0.07  | 6.31  |  4.55 | 2     |\n",
       "| 4.2   | 36    | 0.50  | 9.25  |  4.95 | 2     |\n",
       "| 4.2   | 35    | 0.50  | 5.69  |  2.22 | 2     |\n",
       "| 3.9   | 41    | 0.10  | 5.63  |  2.94 | 2     |\n",
       "| 3.9   | 36    | 0.07  | 6.19  |  2.27 | 2     |\n",
       "| 7.3   | 32    | 0.30  | 8.02  | 12.92 | 2     |\n",
       "| 4.4   | 46    | 0.07  | 7.54  |  5.76 | 2     |\n",
       "| 3.0   | 30    | 0.00  | 5.12  | 10.77 | 2     |\n",
       "\n"
      ],
      "text/plain": [
       "   ï..x1 x2 x3   x4   x5    population\n",
       "1  3.9   51 0.20 7.06 12.19 1         \n",
       "2  2.7   49 0.07 7.14 12.23 1         \n",
       "3  2.8   36 0.30 7.00 11.30 1         \n",
       "4  3.1   45 0.08 7.20 13.01 1         \n",
       "5  3.5   46 0.10 7.81 12.63 1         \n",
       "6  3.9   43 0.07 6.25 10.42 1         \n",
       "7  2.7   35 0.00 5.11  9.00 1         \n",
       "8  5.0   47 0.07 7.06  6.10 2         \n",
       "9  3.4   32 0.20 5.82  4.69 2         \n",
       "10 1.2   12 0.00 5.54  3.15 2         \n",
       "11 8.4   17 0.07 6.31  4.55 2         \n",
       "12 4.2   36 0.50 9.25  4.95 2         \n",
       "13 4.2   35 0.50 5.69  2.22 2         \n",
       "14 3.9   41 0.10 5.63  2.94 2         \n",
       "15 3.9   36 0.07 6.19  2.27 2         \n",
       "16 7.3   32 0.30 8.02 12.92 2         \n",
       "17 4.4   46 0.07 7.54  5.76 2         \n",
       "18 3.0   30 0.00 5.12 10.77 2         "
      ]
     },
     "metadata": {},
     "output_type": "display_data"
    },
    {
     "name": "stderr",
     "output_type": "stream",
     "text": [
      "The following objects are masked from data_oil (pos = 3):\n",
      "\n",
      "    ï..x1, population, x2, x3, x4, x5\n",
      "\n",
      "The following objects are masked from data_oil (pos = 4):\n",
      "\n",
      "    ï..x1, population, x2, x3, x4, x5\n",
      "\n",
      "The following objects are masked from data_oil (pos = 5):\n",
      "\n",
      "    ï..x1, population, x2, x3, x4, x5\n",
      "\n",
      "The following objects are masked from data_oil (pos = 6):\n",
      "\n",
      "    ï..x1, population, x2, x3, x4, x5\n",
      "\n",
      "The following objects are masked from data_oil (pos = 7):\n",
      "\n",
      "    ï..x1, population, x2, x3, x4, x5\n",
      "\n",
      "The following objects are masked from data_oil (pos = 9):\n",
      "\n",
      "    ï..x1, population, x2, x3, x4, x5\n",
      "\n"
     ]
    },
    {
     "name": "stdout",
     "output_type": "stream",
     "text": [
      "'data.frame':\t18 obs. of  6 variables:\n",
      " $ ï..x1     : num  3.9 2.7 2.8 3.1 3.5 3.9 2.7 5 3.4 1.2 ...\n",
      " $ x2        : int  51 49 36 45 46 43 35 47 32 12 ...\n",
      " $ x3        : num  0.2 0.07 0.3 0.08 0.1 0.07 0 0.07 0.2 0 ...\n",
      " $ x4        : num  7.06 7.14 7 7.2 7.81 6.25 5.11 7.06 5.82 5.54 ...\n",
      " $ x5        : num  12.2 12.2 11.3 13 12.6 ...\n",
      " $ population: int  1 1 1 1 1 1 1 2 2 2 ...\n"
     ]
    },
    {
     "data": {
      "text/html": [
       "<ol class=list-inline>\n",
       "\t<li>18</li>\n",
       "\t<li>6</li>\n",
       "</ol>\n"
      ],
      "text/latex": [
       "\\begin{enumerate*}\n",
       "\\item 18\n",
       "\\item 6\n",
       "\\end{enumerate*}\n"
      ],
      "text/markdown": [
       "1. 18\n",
       "2. 6\n",
       "\n",
       "\n"
      ],
      "text/plain": [
       "[1] 18  6"
      ]
     },
     "metadata": {},
     "output_type": "display_data"
    }
   ],
   "source": [
    "library('MASS')\n",
    "data_oil<-read.csv(\"oil_residuals.csv\")\n",
    "data_oil \n",
    "attach(data_oil)\n",
    "str(data_oil)\n",
    "dim(data_oil)\n",
    "options(warn=-1)"
   ]
  },
  {
   "cell_type": "code",
   "execution_count": 72,
   "metadata": {},
   "outputs": [
    {
     "data": {
      "text/html": [
       "<table>\n",
       "<thead><tr><th scope=col>ï..x1</th><th scope=col>x2</th><th scope=col>x3</th><th scope=col>x4</th><th scope=col>x5</th></tr></thead>\n",
       "<tbody>\n",
       "\t<tr><td>3.9  </td><td>51   </td><td>0.20 </td><td>7.06 </td><td>12.19</td></tr>\n",
       "\t<tr><td>2.7  </td><td>49   </td><td>0.07 </td><td>7.14 </td><td>12.23</td></tr>\n",
       "\t<tr><td>2.8  </td><td>36   </td><td>0.30 </td><td>7.00 </td><td>11.30</td></tr>\n",
       "\t<tr><td>3.1  </td><td>45   </td><td>0.08 </td><td>7.20 </td><td>13.01</td></tr>\n",
       "\t<tr><td>3.5  </td><td>46   </td><td>0.10 </td><td>7.81 </td><td>12.63</td></tr>\n",
       "\t<tr><td>3.9  </td><td>43   </td><td>0.07 </td><td>6.25 </td><td>10.42</td></tr>\n",
       "\t<tr><td>2.7  </td><td>35   </td><td>0.00 </td><td>5.11 </td><td> 9.00</td></tr>\n",
       "</tbody>\n",
       "</table>\n"
      ],
      "text/latex": [
       "\\begin{tabular}{r|lllll}\n",
       " ï..x1 & x2 & x3 & x4 & x5\\\\\n",
       "\\hline\n",
       "\t 3.9   & 51    & 0.20  & 7.06  & 12.19\\\\\n",
       "\t 2.7   & 49    & 0.07  & 7.14  & 12.23\\\\\n",
       "\t 2.8   & 36    & 0.30  & 7.00  & 11.30\\\\\n",
       "\t 3.1   & 45    & 0.08  & 7.20  & 13.01\\\\\n",
       "\t 3.5   & 46    & 0.10  & 7.81  & 12.63\\\\\n",
       "\t 3.9   & 43    & 0.07  & 6.25  & 10.42\\\\\n",
       "\t 2.7   & 35    & 0.00  & 5.11  &  9.00\\\\\n",
       "\\end{tabular}\n"
      ],
      "text/markdown": [
       "\n",
       "| ï..x1 | x2 | x3 | x4 | x5 |\n",
       "|---|---|---|---|---|\n",
       "| 3.9   | 51    | 0.20  | 7.06  | 12.19 |\n",
       "| 2.7   | 49    | 0.07  | 7.14  | 12.23 |\n",
       "| 2.8   | 36    | 0.30  | 7.00  | 11.30 |\n",
       "| 3.1   | 45    | 0.08  | 7.20  | 13.01 |\n",
       "| 3.5   | 46    | 0.10  | 7.81  | 12.63 |\n",
       "| 3.9   | 43    | 0.07  | 6.25  | 10.42 |\n",
       "| 2.7   | 35    | 0.00  | 5.11  |  9.00 |\n",
       "\n"
      ],
      "text/plain": [
       "  ï..x1 x2 x3   x4   x5   \n",
       "1 3.9   51 0.20 7.06 12.19\n",
       "2 2.7   49 0.07 7.14 12.23\n",
       "3 2.8   36 0.30 7.00 11.30\n",
       "4 3.1   45 0.08 7.20 13.01\n",
       "5 3.5   46 0.10 7.81 12.63\n",
       "6 3.9   43 0.07 6.25 10.42\n",
       "7 2.7   35 0.00 5.11  9.00"
      ]
     },
     "metadata": {},
     "output_type": "display_data"
    }
   ],
   "source": [
    "x1<-data_oil[1:7,1:5]\n",
    "x1"
   ]
  },
  {
   "cell_type": "code",
   "execution_count": 73,
   "metadata": {},
   "outputs": [
    {
     "data": {
      "text/html": [
       "<table>\n",
       "<thead><tr><th></th><th scope=col>ï..x1</th><th scope=col>x2</th><th scope=col>x3</th><th scope=col>x4</th><th scope=col>x5</th></tr></thead>\n",
       "<tbody>\n",
       "\t<tr><th scope=row>8</th><td>5.0  </td><td>47   </td><td>0.07 </td><td>7.06 </td><td> 6.10</td></tr>\n",
       "\t<tr><th scope=row>9</th><td>3.4  </td><td>32   </td><td>0.20 </td><td>5.82 </td><td> 4.69</td></tr>\n",
       "\t<tr><th scope=row>10</th><td>1.2  </td><td>12   </td><td>0.00 </td><td>5.54 </td><td> 3.15</td></tr>\n",
       "\t<tr><th scope=row>11</th><td>8.4  </td><td>17   </td><td>0.07 </td><td>6.31 </td><td> 4.55</td></tr>\n",
       "\t<tr><th scope=row>12</th><td>4.2  </td><td>36   </td><td>0.50 </td><td>9.25 </td><td> 4.95</td></tr>\n",
       "\t<tr><th scope=row>13</th><td>4.2  </td><td>35   </td><td>0.50 </td><td>5.69 </td><td> 2.22</td></tr>\n",
       "\t<tr><th scope=row>14</th><td>3.9  </td><td>41   </td><td>0.10 </td><td>5.63 </td><td> 2.94</td></tr>\n",
       "\t<tr><th scope=row>15</th><td>3.9  </td><td>36   </td><td>0.07 </td><td>6.19 </td><td> 2.27</td></tr>\n",
       "\t<tr><th scope=row>16</th><td>7.3  </td><td>32   </td><td>0.30 </td><td>8.02 </td><td>12.92</td></tr>\n",
       "\t<tr><th scope=row>17</th><td>4.4  </td><td>46   </td><td>0.07 </td><td>7.54 </td><td> 5.76</td></tr>\n",
       "\t<tr><th scope=row>18</th><td>3.0  </td><td>30   </td><td>0.00 </td><td>5.12 </td><td>10.77</td></tr>\n",
       "</tbody>\n",
       "</table>\n"
      ],
      "text/latex": [
       "\\begin{tabular}{r|lllll}\n",
       "  & ï..x1 & x2 & x3 & x4 & x5\\\\\n",
       "\\hline\n",
       "\t8 & 5.0   & 47    & 0.07  & 7.06  &  6.10\\\\\n",
       "\t9 & 3.4   & 32    & 0.20  & 5.82  &  4.69\\\\\n",
       "\t10 & 1.2   & 12    & 0.00  & 5.54  &  3.15\\\\\n",
       "\t11 & 8.4   & 17    & 0.07  & 6.31  &  4.55\\\\\n",
       "\t12 & 4.2   & 36    & 0.50  & 9.25  &  4.95\\\\\n",
       "\t13 & 4.2   & 35    & 0.50  & 5.69  &  2.22\\\\\n",
       "\t14 & 3.9   & 41    & 0.10  & 5.63  &  2.94\\\\\n",
       "\t15 & 3.9   & 36    & 0.07  & 6.19  &  2.27\\\\\n",
       "\t16 & 7.3   & 32    & 0.30  & 8.02  & 12.92\\\\\n",
       "\t17 & 4.4   & 46    & 0.07  & 7.54  &  5.76\\\\\n",
       "\t18 & 3.0   & 30    & 0.00  & 5.12  & 10.77\\\\\n",
       "\\end{tabular}\n"
      ],
      "text/markdown": [
       "\n",
       "| <!--/--> | ï..x1 | x2 | x3 | x4 | x5 |\n",
       "|---|---|---|---|---|---|\n",
       "| 8 | 5.0   | 47    | 0.07  | 7.06  |  6.10 |\n",
       "| 9 | 3.4   | 32    | 0.20  | 5.82  |  4.69 |\n",
       "| 10 | 1.2   | 12    | 0.00  | 5.54  |  3.15 |\n",
       "| 11 | 8.4   | 17    | 0.07  | 6.31  |  4.55 |\n",
       "| 12 | 4.2   | 36    | 0.50  | 9.25  |  4.95 |\n",
       "| 13 | 4.2   | 35    | 0.50  | 5.69  |  2.22 |\n",
       "| 14 | 3.9   | 41    | 0.10  | 5.63  |  2.94 |\n",
       "| 15 | 3.9   | 36    | 0.07  | 6.19  |  2.27 |\n",
       "| 16 | 7.3   | 32    | 0.30  | 8.02  | 12.92 |\n",
       "| 17 | 4.4   | 46    | 0.07  | 7.54  |  5.76 |\n",
       "| 18 | 3.0   | 30    | 0.00  | 5.12  | 10.77 |\n",
       "\n"
      ],
      "text/plain": [
       "   ï..x1 x2 x3   x4   x5   \n",
       "8  5.0   47 0.07 7.06  6.10\n",
       "9  3.4   32 0.20 5.82  4.69\n",
       "10 1.2   12 0.00 5.54  3.15\n",
       "11 8.4   17 0.07 6.31  4.55\n",
       "12 4.2   36 0.50 9.25  4.95\n",
       "13 4.2   35 0.50 5.69  2.22\n",
       "14 3.9   41 0.10 5.63  2.94\n",
       "15 3.9   36 0.07 6.19  2.27\n",
       "16 7.3   32 0.30 8.02 12.92\n",
       "17 4.4   46 0.07 7.54  5.76\n",
       "18 3.0   30 0.00 5.12 10.77"
      ]
     },
     "metadata": {},
     "output_type": "display_data"
    }
   ],
   "source": [
    "x2<-data_oil[8:18,1:5]\n",
    "x2"
   ]
  },
  {
   "cell_type": "code",
   "execution_count": 74,
   "metadata": {},
   "outputs": [
    {
     "data": {
      "text/html": [
       "7"
      ],
      "text/latex": [
       "7"
      ],
      "text/markdown": [
       "7"
      ],
      "text/plain": [
       "[1] 7"
      ]
     },
     "metadata": {},
     "output_type": "display_data"
    }
   ],
   "source": [
    "n1<-nrow(x1)\n",
    "n1 #The first oil farm"
   ]
  },
  {
   "cell_type": "code",
   "execution_count": 75,
   "metadata": {},
   "outputs": [
    {
     "data": {
      "text/html": [
       "11"
      ],
      "text/latex": [
       "11"
      ],
      "text/markdown": [
       "11"
      ],
      "text/plain": [
       "[1] 11"
      ]
     },
     "metadata": {},
     "output_type": "display_data"
    }
   ],
   "source": [
    "n2<-nrow(x2)\n",
    "n2 #The second oil farm"
   ]
  },
  {
   "cell_type": "code",
   "execution_count": 76,
   "metadata": {},
   "outputs": [
    {
     "data": {
      "text/html": [
       "<dl class=dl-horizontal>\n",
       "\t<dt>ï..x1</dt>\n",
       "\t\t<dd>3.22857142857143</dd>\n",
       "\t<dt>x2</dt>\n",
       "\t\t<dd>43.5714285714286</dd>\n",
       "\t<dt>x3</dt>\n",
       "\t\t<dd>0.117142857142857</dd>\n",
       "\t<dt>x4</dt>\n",
       "\t\t<dd>6.79571428571429</dd>\n",
       "\t<dt>x5</dt>\n",
       "\t\t<dd>11.54</dd>\n",
       "</dl>\n"
      ],
      "text/latex": [
       "\\begin{description*}\n",
       "\\item[ï..x1] 3.22857142857143\n",
       "\\item[x2] 43.5714285714286\n",
       "\\item[x3] 0.117142857142857\n",
       "\\item[x4] 6.79571428571429\n",
       "\\item[x5] 11.54\n",
       "\\end{description*}\n"
      ],
      "text/markdown": [
       "ï..x1\n",
       ":   3.22857142857143x2\n",
       ":   43.5714285714286x3\n",
       ":   0.117142857142857x4\n",
       ":   6.79571428571429x5\n",
       ":   11.54\n",
       "\n"
      ],
      "text/plain": [
       "     ï..x1         x2         x3         x4         x5 \n",
       " 3.2285714 43.5714286  0.1171429  6.7957143 11.5400000 "
      ]
     },
     "metadata": {},
     "output_type": "display_data"
    }
   ],
   "source": [
    "xbar1<-colMeans(x1)\n",
    "xbar1"
   ]
  },
  {
   "cell_type": "code",
   "execution_count": 77,
   "metadata": {},
   "outputs": [
    {
     "data": {
      "text/html": [
       "<dl class=dl-horizontal>\n",
       "\t<dt>ï..x1</dt>\n",
       "\t\t<dd>4.44545454545455</dd>\n",
       "\t<dt>x2</dt>\n",
       "\t\t<dd>33.0909090909091</dd>\n",
       "\t<dt>x3</dt>\n",
       "\t\t<dd>0.170909090909091</dd>\n",
       "\t<dt>x4</dt>\n",
       "\t\t<dd>6.56090909090909</dd>\n",
       "\t<dt>x5</dt>\n",
       "\t\t<dd>5.48363636363636</dd>\n",
       "</dl>\n"
      ],
      "text/latex": [
       "\\begin{description*}\n",
       "\\item[ï..x1] 4.44545454545455\n",
       "\\item[x2] 33.0909090909091\n",
       "\\item[x3] 0.170909090909091\n",
       "\\item[x4] 6.56090909090909\n",
       "\\item[x5] 5.48363636363636\n",
       "\\end{description*}\n"
      ],
      "text/markdown": [
       "ï..x1\n",
       ":   4.44545454545455x2\n",
       ":   33.0909090909091x3\n",
       ":   0.170909090909091x4\n",
       ":   6.56090909090909x5\n",
       ":   5.48363636363636\n",
       "\n"
      ],
      "text/plain": [
       "     ï..x1         x2         x3         x4         x5 \n",
       " 4.4454545 33.0909091  0.1709091  6.5609091  5.4836364 "
      ]
     },
     "metadata": {},
     "output_type": "display_data"
    }
   ],
   "source": [
    "xbar2<-colMeans(x2)\n",
    "xbar2"
   ]
  },
  {
   "cell_type": "code",
   "execution_count": 78,
   "metadata": {},
   "outputs": [
    {
     "data": {
      "text/html": [
       "<table>\n",
       "<thead><tr><th></th><th scope=col>ï..x1</th><th scope=col>x2</th><th scope=col>x3</th><th scope=col>x4</th><th scope=col>x5</th></tr></thead>\n",
       "<tbody>\n",
       "\t<tr><th scope=row>ï..x1</th><td>0.289047619 </td><td> 1.6642857  </td><td> 0.005428571</td><td>0.10930952  </td><td>0.14533333  </td></tr>\n",
       "\t<tr><th scope=row>x2</th><td>1.664285714 </td><td>37.2857143  </td><td>-0.014761905</td><td>3.34785714  </td><td>6.25833333  </td></tr>\n",
       "\t<tr><th scope=row>x3</th><td>0.005428571 </td><td>-0.0147619  </td><td> 0.010023810</td><td>0.03896905  </td><td>0.04241667  </td></tr>\n",
       "\t<tr><th scope=row>x4</th><td>0.109309524 </td><td> 3.3478571  </td><td> 0.038969048</td><td>0.76029524  </td><td>1.15885000  </td></tr>\n",
       "\t<tr><th scope=row>x5</th><td>0.145333333 </td><td> 6.2583333  </td><td> 0.042416667</td><td>1.15885000  </td><td>2.00186667  </td></tr>\n",
       "</tbody>\n",
       "</table>\n"
      ],
      "text/latex": [
       "\\begin{tabular}{r|lllll}\n",
       "  & ï..x1 & x2 & x3 & x4 & x5\\\\\n",
       "\\hline\n",
       "\tï..x1 & 0.289047619  &  1.6642857   &  0.005428571 & 0.10930952   & 0.14533333  \\\\\n",
       "\tx2 & 1.664285714  & 37.2857143   & -0.014761905 & 3.34785714   & 6.25833333  \\\\\n",
       "\tx3 & 0.005428571  & -0.0147619   &  0.010023810 & 0.03896905   & 0.04241667  \\\\\n",
       "\tx4 & 0.109309524  &  3.3478571   &  0.038969048 & 0.76029524   & 1.15885000  \\\\\n",
       "\tx5 & 0.145333333  &  6.2583333   &  0.042416667 & 1.15885000   & 2.00186667  \\\\\n",
       "\\end{tabular}\n"
      ],
      "text/markdown": [
       "\n",
       "| <!--/--> | ï..x1 | x2 | x3 | x4 | x5 |\n",
       "|---|---|---|---|---|---|\n",
       "| ï..x1 | 0.289047619  |  1.6642857   |  0.005428571 | 0.10930952   | 0.14533333   |\n",
       "| x2 | 1.664285714  | 37.2857143   | -0.014761905 | 3.34785714   | 6.25833333   |\n",
       "| x3 | 0.005428571  | -0.0147619   |  0.010023810 | 0.03896905   | 0.04241667   |\n",
       "| x4 | 0.109309524  |  3.3478571   |  0.038969048 | 0.76029524   | 1.15885000   |\n",
       "| x5 | 0.145333333  |  6.2583333   |  0.042416667 | 1.15885000   | 2.00186667   |\n",
       "\n"
      ],
      "text/plain": [
       "      ï..x1       x2         x3           x4         x5        \n",
       "ï..x1 0.289047619  1.6642857  0.005428571 0.10930952 0.14533333\n",
       "x2    1.664285714 37.2857143 -0.014761905 3.34785714 6.25833333\n",
       "x3    0.005428571 -0.0147619  0.010023810 0.03896905 0.04241667\n",
       "x4    0.109309524  3.3478571  0.038969048 0.76029524 1.15885000\n",
       "x5    0.145333333  6.2583333  0.042416667 1.15885000 2.00186667"
      ]
     },
     "metadata": {},
     "output_type": "display_data"
    }
   ],
   "source": [
    "s1<-cov(x1)\n",
    "s1"
   ]
  },
  {
   "cell_type": "code",
   "execution_count": 79,
   "metadata": {},
   "outputs": [
    {
     "data": {
      "text/html": [
       "<table>\n",
       "<thead><tr><th></th><th scope=col>ï..x1</th><th scope=col>x2</th><th scope=col>x3</th><th scope=col>x4</th><th scope=col>x5</th></tr></thead>\n",
       "<tbody>\n",
       "\t<tr><th scope=row>ï..x1</th><td>3.85272727 </td><td>  0.7354545</td><td> 0.06215455</td><td>0.9839545  </td><td> 2.26991818</td></tr>\n",
       "\t<tr><th scope=row>x2</th><td>0.73545455 </td><td>115.8909091</td><td> 0.36090909</td><td>4.6539091  </td><td> 1.55463636</td></tr>\n",
       "\t<tr><th scope=row>x3</th><td>0.06215455 </td><td>  0.3609091</td><td> 0.03382909</td><td>0.1165491  </td><td>-0.03086364</td></tr>\n",
       "\t<tr><th scope=row>x4</th><td>0.98395455 </td><td>  4.6539091</td><td> 0.11654909</td><td>1.6060891  </td><td> 1.19832636</td></tr>\n",
       "\t<tr><th scope=row>x5</th><td>2.26991818 </td><td>  1.5546364</td><td>-0.03086364</td><td>1.1983264  </td><td>11.83824545</td></tr>\n",
       "</tbody>\n",
       "</table>\n"
      ],
      "text/latex": [
       "\\begin{tabular}{r|lllll}\n",
       "  & ï..x1 & x2 & x3 & x4 & x5\\\\\n",
       "\\hline\n",
       "\tï..x1 & 3.85272727  &   0.7354545 &  0.06215455 & 0.9839545   &  2.26991818\\\\\n",
       "\tx2 & 0.73545455  & 115.8909091 &  0.36090909 & 4.6539091   &  1.55463636\\\\\n",
       "\tx3 & 0.06215455  &   0.3609091 &  0.03382909 & 0.1165491   & -0.03086364\\\\\n",
       "\tx4 & 0.98395455  &   4.6539091 &  0.11654909 & 1.6060891   &  1.19832636\\\\\n",
       "\tx5 & 2.26991818  &   1.5546364 & -0.03086364 & 1.1983264   & 11.83824545\\\\\n",
       "\\end{tabular}\n"
      ],
      "text/markdown": [
       "\n",
       "| <!--/--> | ï..x1 | x2 | x3 | x4 | x5 |\n",
       "|---|---|---|---|---|---|\n",
       "| ï..x1 | 3.85272727  |   0.7354545 |  0.06215455 | 0.9839545   |  2.26991818 |\n",
       "| x2 | 0.73545455  | 115.8909091 |  0.36090909 | 4.6539091   |  1.55463636 |\n",
       "| x3 | 0.06215455  |   0.3609091 |  0.03382909 | 0.1165491   | -0.03086364 |\n",
       "| x4 | 0.98395455  |   4.6539091 |  0.11654909 | 1.6060891   |  1.19832636 |\n",
       "| x5 | 2.26991818  |   1.5546364 | -0.03086364 | 1.1983264   | 11.83824545 |\n",
       "\n"
      ],
      "text/plain": [
       "      ï..x1      x2          x3          x4        x5         \n",
       "ï..x1 3.85272727   0.7354545  0.06215455 0.9839545  2.26991818\n",
       "x2    0.73545455 115.8909091  0.36090909 4.6539091  1.55463636\n",
       "x3    0.06215455   0.3609091  0.03382909 0.1165491 -0.03086364\n",
       "x4    0.98395455   4.6539091  0.11654909 1.6060891  1.19832636\n",
       "x5    2.26991818   1.5546364 -0.03086364 1.1983264 11.83824545"
      ]
     },
     "metadata": {},
     "output_type": "display_data"
    }
   ],
   "source": [
    "s2<-cov(x2)\n",
    "s2"
   ]
  },
  {
   "cell_type": "code",
   "execution_count": 80,
   "metadata": {},
   "outputs": [
    {
     "data": {
      "text/html": [
       "<table>\n",
       "<thead><tr><th></th><th scope=col>ï..x1</th><th scope=col>x2</th><th scope=col>x3</th><th scope=col>x4</th><th scope=col>x5</th></tr></thead>\n",
       "<tbody>\n",
       "\t<tr><th scope=row>ï..x1</th><td>2.51634740  </td><td> 1.0837662  </td><td> 0.040882305</td><td>0.65596266  </td><td> 1.473198864</td></tr>\n",
       "\t<tr><th scope=row>x2</th><td>1.08376623  </td><td>86.4139610  </td><td> 0.220032468</td><td>4.16413961  </td><td> 3.318522727</td></tr>\n",
       "\t<tr><th scope=row>x3</th><td>0.04088231  </td><td> 0.2200325  </td><td> 0.024902110</td><td>0.08745657  </td><td>-0.003383523</td></tr>\n",
       "\t<tr><th scope=row>x4</th><td>0.65596266  </td><td> 4.1641396  </td><td> 0.087456575</td><td>1.28891640  </td><td> 1.183522727</td></tr>\n",
       "\t<tr><th scope=row>x5</th><td>1.47319886  </td><td> 3.3185227  </td><td>-0.003383523</td><td>1.18352273  </td><td> 8.149603409</td></tr>\n",
       "</tbody>\n",
       "</table>\n"
      ],
      "text/latex": [
       "\\begin{tabular}{r|lllll}\n",
       "  & ï..x1 & x2 & x3 & x4 & x5\\\\\n",
       "\\hline\n",
       "\tï..x1 & 2.51634740   &  1.0837662   &  0.040882305 & 0.65596266   &  1.473198864\\\\\n",
       "\tx2 & 1.08376623   & 86.4139610   &  0.220032468 & 4.16413961   &  3.318522727\\\\\n",
       "\tx3 & 0.04088231   &  0.2200325   &  0.024902110 & 0.08745657   & -0.003383523\\\\\n",
       "\tx4 & 0.65596266   &  4.1641396   &  0.087456575 & 1.28891640   &  1.183522727\\\\\n",
       "\tx5 & 1.47319886   &  3.3185227   & -0.003383523 & 1.18352273   &  8.149603409\\\\\n",
       "\\end{tabular}\n"
      ],
      "text/markdown": [
       "\n",
       "| <!--/--> | ï..x1 | x2 | x3 | x4 | x5 |\n",
       "|---|---|---|---|---|---|\n",
       "| ï..x1 | 2.51634740   |  1.0837662   |  0.040882305 | 0.65596266   |  1.473198864 |\n",
       "| x2 | 1.08376623   | 86.4139610   |  0.220032468 | 4.16413961   |  3.318522727 |\n",
       "| x3 | 0.04088231   |  0.2200325   |  0.024902110 | 0.08745657   | -0.003383523 |\n",
       "| x4 | 0.65596266   |  4.1641396   |  0.087456575 | 1.28891640   |  1.183522727 |\n",
       "| x5 | 1.47319886   |  3.3185227   | -0.003383523 | 1.18352273   |  8.149603409 |\n",
       "\n"
      ],
      "text/plain": [
       "      ï..x1      x2         x3           x4         x5          \n",
       "ï..x1 2.51634740  1.0837662  0.040882305 0.65596266  1.473198864\n",
       "x2    1.08376623 86.4139610  0.220032468 4.16413961  3.318522727\n",
       "x3    0.04088231  0.2200325  0.024902110 0.08745657 -0.003383523\n",
       "x4    0.65596266  4.1641396  0.087456575 1.28891640  1.183522727\n",
       "x5    1.47319886  3.3185227 -0.003383523 1.18352273  8.149603409"
      ]
     },
     "metadata": {},
     "output_type": "display_data"
    }
   ],
   "source": [
    "spooled<-(((n1-1)*s1+(n2-1)*s2)/(n1+n2-2))\n",
    "spooled"
   ]
  },
  {
   "cell_type": "code",
   "execution_count": 82,
   "metadata": {},
   "outputs": [
    {
     "data": {
      "text/html": [
       "<table>\n",
       "<tbody>\n",
       "\t<tr><td> 0.485371368 </td><td> 0.0063302612</td><td>-0.15657994  </td><td>-0.20060281  </td><td>-0.0612505224</td></tr>\n",
       "\t<tr><td> 0.006330261 </td><td> 0.0138446094</td><td> 0.05040013  </td><td>-0.05211042  </td><td> 0.0008067895</td></tr>\n",
       "\t<tr><td>-0.156579941 </td><td> 0.0504001300</td><td>55.87916340  </td><td>-4.50371618  </td><td> 0.6850318981</td></tr>\n",
       "\t<tr><td>-0.200602814 </td><td>-0.0521104224</td><td>-4.50371618  </td><td> 1.50097075  </td><td>-0.1623654427</td></tr>\n",
       "\t<tr><td>-0.061250522 </td><td> 0.0008067895</td><td> 0.68503190  </td><td>-0.16236544  </td><td> 0.1573129144</td></tr>\n",
       "</tbody>\n",
       "</table>\n"
      ],
      "text/latex": [
       "\\begin{tabular}{lllll}\n",
       "\t  0.485371368  &  0.0063302612 & -0.15657994   & -0.20060281   & -0.0612505224\\\\\n",
       "\t  0.006330261  &  0.0138446094 &  0.05040013   & -0.05211042   &  0.0008067895\\\\\n",
       "\t -0.156579941  &  0.0504001300 & 55.87916340   & -4.50371618   &  0.6850318981\\\\\n",
       "\t -0.200602814  & -0.0521104224 & -4.50371618   &  1.50097075   & -0.1623654427\\\\\n",
       "\t -0.061250522  &  0.0008067895 &  0.68503190   & -0.16236544   &  0.1573129144\\\\\n",
       "\\end{tabular}\n"
      ],
      "text/markdown": [
       "\n",
       "|  0.485371368  |  0.0063302612 | -0.15657994   | -0.20060281   | -0.0612505224 |\n",
       "|  0.006330261  |  0.0138446094 |  0.05040013   | -0.05211042   |  0.0008067895 |\n",
       "| -0.156579941  |  0.0504001300 | 55.87916340   | -4.50371618   |  0.6850318981 |\n",
       "| -0.200602814  | -0.0521104224 | -4.50371618   |  1.50097075   | -0.1623654427 |\n",
       "| -0.061250522  |  0.0008067895 |  0.68503190   | -0.16236544   |  0.1573129144 |\n",
       "\n"
      ],
      "text/plain": [
       "     [,1]         [,2]          [,3]        [,4]        [,5]         \n",
       "[1,]  0.485371368  0.0063302612 -0.15657994 -0.20060281 -0.0612505224\n",
       "[2,]  0.006330261  0.0138446094  0.05040013 -0.05211042  0.0008067895\n",
       "[3,] -0.156579941  0.0504001300 55.87916340 -4.50371618  0.6850318981\n",
       "[4,] -0.200602814 -0.0521104224 -4.50371618  1.50097075 -0.1623654427\n",
       "[5,] -0.061250522  0.0008067895  0.68503190 -0.16236544  0.1573129144"
      ]
     },
     "metadata": {},
     "output_type": "display_data"
    }
   ],
   "source": [
    "inverse_spooled<-ginv(spooled)\n",
    "inverse_spooled"
   ]
  },
  {
   "cell_type": "code",
   "execution_count": 23,
   "metadata": {},
   "outputs": [
    {
     "name": "stdout",
     "output_type": "stream",
     "text": [
      "1   4.391099   8.841232   1 \n",
      "2   4.35657   9.656818   1 \n",
      "3   5.675917   8.051877   1 \n",
      "4   4.361202   9.496832   1 \n",
      "5   3.750678   7.714994   1 \n",
      "6   5.421248   7.696693   1 \n",
      "7   8.287336   9.427315   1 \n",
      "8   6.320771   4.560833   2 \n",
      "9   3.930731   0.8506008   2 \n",
      "10   4.487153   -0.3070083   2 \n",
      "11   10.44727   -26.3084   2 \n",
      "12   4.65952   -0.697342   2 \n",
      "13   5.351772   -0.8385628   2 \n",
      "14   4.444525   0.5873495   2 \n",
      "15   4.784109   -1.147742   2 \n",
      "16   9.736162   14.97634   1 \n",
      "17   6.736758   4.862996   2 \n",
      "18   -3.561597   7.760277   1 \n"
     ]
    }
   ],
   "source": [
    "mhat <-y0 <- group <-vector(mode=\"numeric\")\n",
    "for(i in 1:18) {\n",
    "data0 <- data_oil[-i, ]\n",
    "data1 = data0[data0$population == 1,][,1:5]\n",
    "data2 = data0[data0$population == 2,][,1:5]\n",
    "n1 <- nrow(data1)\n",
    "n2 <- nrow(data2)\n",
    "xbar1 <- colMeans(data1)\n",
    "xbar2 <- colMeans(data2)\n",
    "s1 <- cov(data1)\n",
    "s2 <- cov(data2)\n",
    "spooled <- (((n1-1)*s1)+((n2-1)*s2)) / (n1+n2-2)\n",
    "inv.spooled <- solve(spooled)\n",
    "mhat[i] <- ((xbar1-xbar2)%*%inv.spooled%*%(xbar1+xbar2)) / (2)\n",
    "x0 <- t(as.matrix(data_oil[i,1:5]))\n",
    "y0[i] <- (xbar1-xbar2)%*%inv.spooled%*%x0\n",
    "\n",
    "group[i] <- ifelse(y0[i] >= mhat[i], \"1\", \"2\")\n",
    "\n",
    "cat (i,\" \",mhat[i],\" \",y0[i],\" \",group[i] ,\"\\n\")\n",
    "}"
   ]
  },
  {
   "cell_type": "markdown",
   "metadata": {},
   "source": [
    "fisrt column show me m hat , secound y hat and last one the classification.\n",
    " so here when we see first row to explain how we classification , when y hat greatr than or equal m hat it will be from The first oil farm , so we complate in this procces for all data by LOOCV as in the table.\n"
   ]
  }
 ],
 "metadata": {
  "kernelspec": {
   "display_name": "R",
   "language": "R",
   "name": "ir"
  },
  "language_info": {
   "codemirror_mode": "r",
   "file_extension": ".r",
   "mimetype": "text/x-r-source",
   "name": "R",
   "pygments_lexer": "r",
   "version": "3.6.1"
  }
 },
 "nbformat": 4,
 "nbformat_minor": 4
}
